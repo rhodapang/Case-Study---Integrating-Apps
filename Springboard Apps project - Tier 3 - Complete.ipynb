{
 "cells": [
  {
   "cell_type": "markdown",
   "metadata": {
    "colab_type": "text",
    "id": "i2RUFW7TFcuh"
   },
   "source": [
    "# Springboard Apps project - Tier 3 - Complete\n",
    "\n",
    "Welcome to the Apps project! To give you a taste of your future career, we're going to walk through exactly the kind of notebook that you'd write as a data scientist. In the process, we'll be sure to signpost the general framework for our investigation - the Data Science Pipeline - as well as give reasons for why we're doing what we're doing. We're also going to apply some of the skills and knowledge you've built up in the previous unit when reading Professor Spiegelhalter's *The Art of Statistics* (hereinafter *AoS*). \n",
    "\n",
    "So let's get cracking!\n",
    "\n",
    "**Brief**\n",
    "\n",
    "Did Apple Store apps receive better reviews than Google Play apps?\n",
    "\n",
    "## Stages of the project\n",
    "\n",
    "1. Sourcing and loading \n",
    "    * Load the two datasets\n",
    "    * Pick the columns that we are going to work with \n",
    "    * Subsetting the data on this basis \n",
    " \n",
    " \n",
    "2. Cleaning, transforming and visualizing\n",
    "    * Check the data types and fix them\n",
    "    * Add a `platform` column to both the `Apple` and the `Google` dataframes\n",
    "    * Changing the column names to prepare for a join \n",
    "    * Join the two data sets\n",
    "    * Eliminate the `NaN` values\n",
    "    * Filter only those apps that have been reviewed at least once\n",
    "    * Summarize the data visually and analytically (by the column `platform`)  \n",
    "  \n",
    "  \n",
    "3. Modelling \n",
    "    * Hypothesis formulation\n",
    "    * Getting the distribution of the data\n",
    "    * Permutation test \n",
    "\n",
    "\n",
    "4. Evaluating and concluding \n",
    "    * What is our conclusion?\n",
    "    * What is our decision?\n",
    "    * Other models we could have used. \n",
    "    "
   ]
  },
  {
   "cell_type": "markdown",
   "metadata": {
    "colab_type": "text",
    "id": "QLUAXtl1Fcuk"
   },
   "source": [
    "## Importing the libraries\n",
    "\n",
    "In this case we are going to import pandas, numpy, scipy, random and matplotlib.pyplot"
   ]
  },
  {
   "cell_type": "code",
   "execution_count": 1,
   "metadata": {
    "colab": {},
    "colab_type": "code",
    "id": "XeXJOlGiFcum"
   },
   "outputs": [],
   "source": [
    "import pandas as pd\n",
    "import numpy as np\n",
    "import matplotlib.pyplot as plt\n",
    "# scipi is a library for statistical tests and visualizations \n",
    "from scipy import stats\n",
    "# random enables us to generate random numbers\n",
    "import random"
   ]
  },
  {
   "cell_type": "markdown",
   "metadata": {
    "colab_type": "text",
    "id": "zVD7NlPAFcup"
   },
   "source": [
    "## Stage 1 -  Sourcing and loading data"
   ]
  },
  {
   "cell_type": "markdown",
   "metadata": {
    "colab_type": "text",
    "id": "KU8bdbImFcuq"
   },
   "source": [
    "### 1a. Source and load the data\n",
    "Let's download the data from Kaggle. Kaggle is a fantastic resource: a kind of social medium for data scientists, it boasts projects, datasets and news on the freshest libraries and technologies all in one place. The data from the Apple Store can be found [here](https://www.kaggle.com/ramamet4/app-store-apple-data-set-10k-apps) and the data from Google Store can be found [here](https://www.kaggle.com/lava18/google-play-store-apps).\n",
    "Download the datasets and save them in your working directory."
   ]
  },
  {
   "cell_type": "code",
   "execution_count": 2,
   "metadata": {
    "colab": {},
    "colab_type": "code",
    "id": "laM1PB76Fcur"
   },
   "outputs": [
    {
     "data": {
      "text/html": [
       "<div>\n",
       "<style scoped>\n",
       "    .dataframe tbody tr th:only-of-type {\n",
       "        vertical-align: middle;\n",
       "    }\n",
       "\n",
       "    .dataframe tbody tr th {\n",
       "        vertical-align: top;\n",
       "    }\n",
       "\n",
       "    .dataframe thead th {\n",
       "        text-align: right;\n",
       "    }\n",
       "</style>\n",
       "<table border=\"1\" class=\"dataframe\">\n",
       "  <thead>\n",
       "    <tr style=\"text-align: right;\">\n",
       "      <th></th>\n",
       "      <th>App</th>\n",
       "      <th>Category</th>\n",
       "      <th>Rating</th>\n",
       "      <th>Reviews</th>\n",
       "      <th>Size</th>\n",
       "      <th>Installs</th>\n",
       "      <th>Type</th>\n",
       "      <th>Price</th>\n",
       "      <th>Content Rating</th>\n",
       "      <th>Genres</th>\n",
       "      <th>Last Updated</th>\n",
       "      <th>Current Ver</th>\n",
       "      <th>Android Ver</th>\n",
       "    </tr>\n",
       "  </thead>\n",
       "  <tbody>\n",
       "    <tr>\n",
       "      <th>0</th>\n",
       "      <td>Photo Editor &amp; Candy Camera &amp; Grid &amp; ScrapBook</td>\n",
       "      <td>ART_AND_DESIGN</td>\n",
       "      <td>4.1</td>\n",
       "      <td>159</td>\n",
       "      <td>19M</td>\n",
       "      <td>10,000+</td>\n",
       "      <td>Free</td>\n",
       "      <td>0</td>\n",
       "      <td>Everyone</td>\n",
       "      <td>Art &amp; Design</td>\n",
       "      <td>January 7, 2018</td>\n",
       "      <td>1.0.0</td>\n",
       "      <td>4.0.3 and up</td>\n",
       "    </tr>\n",
       "    <tr>\n",
       "      <th>1</th>\n",
       "      <td>Coloring book moana</td>\n",
       "      <td>ART_AND_DESIGN</td>\n",
       "      <td>3.9</td>\n",
       "      <td>967</td>\n",
       "      <td>14M</td>\n",
       "      <td>500,000+</td>\n",
       "      <td>Free</td>\n",
       "      <td>0</td>\n",
       "      <td>Everyone</td>\n",
       "      <td>Art &amp; Design;Pretend Play</td>\n",
       "      <td>January 15, 2018</td>\n",
       "      <td>2.0.0</td>\n",
       "      <td>4.0.3 and up</td>\n",
       "    </tr>\n",
       "    <tr>\n",
       "      <th>2</th>\n",
       "      <td>U Launcher Lite – FREE Live Cool Themes, Hide ...</td>\n",
       "      <td>ART_AND_DESIGN</td>\n",
       "      <td>4.7</td>\n",
       "      <td>87510</td>\n",
       "      <td>8.7M</td>\n",
       "      <td>5,000,000+</td>\n",
       "      <td>Free</td>\n",
       "      <td>0</td>\n",
       "      <td>Everyone</td>\n",
       "      <td>Art &amp; Design</td>\n",
       "      <td>August 1, 2018</td>\n",
       "      <td>1.2.4</td>\n",
       "      <td>4.0.3 and up</td>\n",
       "    </tr>\n",
       "  </tbody>\n",
       "</table>\n",
       "</div>"
      ],
      "text/plain": [
       "                                                 App        Category  Rating  \\\n",
       "0     Photo Editor & Candy Camera & Grid & ScrapBook  ART_AND_DESIGN     4.1   \n",
       "1                                Coloring book moana  ART_AND_DESIGN     3.9   \n",
       "2  U Launcher Lite – FREE Live Cool Themes, Hide ...  ART_AND_DESIGN     4.7   \n",
       "\n",
       "  Reviews  Size    Installs  Type Price Content Rating  \\\n",
       "0     159   19M     10,000+  Free     0       Everyone   \n",
       "1     967   14M    500,000+  Free     0       Everyone   \n",
       "2   87510  8.7M  5,000,000+  Free     0       Everyone   \n",
       "\n",
       "                      Genres      Last Updated Current Ver   Android Ver  \n",
       "0               Art & Design   January 7, 2018       1.0.0  4.0.3 and up  \n",
       "1  Art & Design;Pretend Play  January 15, 2018       2.0.0  4.0.3 and up  \n",
       "2               Art & Design    August 1, 2018       1.2.4  4.0.3 and up  "
      ]
     },
     "execution_count": 2,
     "metadata": {},
     "output_type": "execute_result"
    }
   ],
   "source": [
    "# Now that the files are saved, we want to load them into Python using read_csv and pandas.\n",
    "\n",
    "# Create a variable called google, and store in it the path of the csv file that contains your google dataset. \n",
    "# If your dataset is in the same folder as this notebook, the path will simply be the name of the file. \n",
    "google = 'googleplaystore.csv'\n",
    "\n",
    "# Read the csv file into a data frame called Google using the read_csv() pandas method.\n",
    "Google = pd.read_csv(google)\n",
    "\n",
    "# Using the head() pandas method, observe the first three entries.\n",
    "Google.head(3)"
   ]
  },
  {
   "cell_type": "code",
   "execution_count": 3,
   "metadata": {
    "colab": {},
    "colab_type": "code",
    "id": "3AW8EA1wFcuu"
   },
   "outputs": [
    {
     "data": {
      "text/html": [
       "<div>\n",
       "<style scoped>\n",
       "    .dataframe tbody tr th:only-of-type {\n",
       "        vertical-align: middle;\n",
       "    }\n",
       "\n",
       "    .dataframe tbody tr th {\n",
       "        vertical-align: top;\n",
       "    }\n",
       "\n",
       "    .dataframe thead th {\n",
       "        text-align: right;\n",
       "    }\n",
       "</style>\n",
       "<table border=\"1\" class=\"dataframe\">\n",
       "  <thead>\n",
       "    <tr style=\"text-align: right;\">\n",
       "      <th></th>\n",
       "      <th>Unnamed: 0</th>\n",
       "      <th>id</th>\n",
       "      <th>track_name</th>\n",
       "      <th>size_bytes</th>\n",
       "      <th>currency</th>\n",
       "      <th>price</th>\n",
       "      <th>rating_count_tot</th>\n",
       "      <th>rating_count_ver</th>\n",
       "      <th>user_rating</th>\n",
       "      <th>user_rating_ver</th>\n",
       "      <th>ver</th>\n",
       "      <th>cont_rating</th>\n",
       "      <th>prime_genre</th>\n",
       "      <th>sup_devices.num</th>\n",
       "      <th>ipadSc_urls.num</th>\n",
       "      <th>lang.num</th>\n",
       "      <th>vpp_lic</th>\n",
       "    </tr>\n",
       "  </thead>\n",
       "  <tbody>\n",
       "    <tr>\n",
       "      <th>0</th>\n",
       "      <td>1</td>\n",
       "      <td>281656475</td>\n",
       "      <td>PAC-MAN Premium</td>\n",
       "      <td>100788224</td>\n",
       "      <td>USD</td>\n",
       "      <td>3.99</td>\n",
       "      <td>21292</td>\n",
       "      <td>26</td>\n",
       "      <td>4.0</td>\n",
       "      <td>4.5</td>\n",
       "      <td>6.3.5</td>\n",
       "      <td>4+</td>\n",
       "      <td>Games</td>\n",
       "      <td>38</td>\n",
       "      <td>5</td>\n",
       "      <td>10</td>\n",
       "      <td>1</td>\n",
       "    </tr>\n",
       "    <tr>\n",
       "      <th>1</th>\n",
       "      <td>2</td>\n",
       "      <td>281796108</td>\n",
       "      <td>Evernote - stay organized</td>\n",
       "      <td>158578688</td>\n",
       "      <td>USD</td>\n",
       "      <td>0.00</td>\n",
       "      <td>161065</td>\n",
       "      <td>26</td>\n",
       "      <td>4.0</td>\n",
       "      <td>3.5</td>\n",
       "      <td>8.2.2</td>\n",
       "      <td>4+</td>\n",
       "      <td>Productivity</td>\n",
       "      <td>37</td>\n",
       "      <td>5</td>\n",
       "      <td>23</td>\n",
       "      <td>1</td>\n",
       "    </tr>\n",
       "    <tr>\n",
       "      <th>2</th>\n",
       "      <td>3</td>\n",
       "      <td>281940292</td>\n",
       "      <td>WeatherBug - Local Weather, Radar, Maps, Alerts</td>\n",
       "      <td>100524032</td>\n",
       "      <td>USD</td>\n",
       "      <td>0.00</td>\n",
       "      <td>188583</td>\n",
       "      <td>2822</td>\n",
       "      <td>3.5</td>\n",
       "      <td>4.5</td>\n",
       "      <td>5.0.0</td>\n",
       "      <td>4+</td>\n",
       "      <td>Weather</td>\n",
       "      <td>37</td>\n",
       "      <td>5</td>\n",
       "      <td>3</td>\n",
       "      <td>1</td>\n",
       "    </tr>\n",
       "  </tbody>\n",
       "</table>\n",
       "</div>"
      ],
      "text/plain": [
       "   Unnamed: 0         id                                       track_name  \\\n",
       "0           1  281656475                                  PAC-MAN Premium   \n",
       "1           2  281796108                        Evernote - stay organized   \n",
       "2           3  281940292  WeatherBug - Local Weather, Radar, Maps, Alerts   \n",
       "\n",
       "   size_bytes currency  price  rating_count_tot  rating_count_ver  \\\n",
       "0   100788224      USD   3.99             21292                26   \n",
       "1   158578688      USD   0.00            161065                26   \n",
       "2   100524032      USD   0.00            188583              2822   \n",
       "\n",
       "   user_rating  user_rating_ver    ver cont_rating   prime_genre  \\\n",
       "0          4.0              4.5  6.3.5          4+         Games   \n",
       "1          4.0              3.5  8.2.2          4+  Productivity   \n",
       "2          3.5              4.5  5.0.0          4+       Weather   \n",
       "\n",
       "   sup_devices.num  ipadSc_urls.num  lang.num  vpp_lic  \n",
       "0               38                5        10        1  \n",
       "1               37                5        23        1  \n",
       "2               37                5         3        1  "
      ]
     },
     "execution_count": 3,
     "metadata": {},
     "output_type": "execute_result"
    }
   ],
   "source": [
    "# Create a variable called apple, and store in it the path of the csv file that contains your apple dataset. \n",
    "apple = 'AppleStore.csv'\n",
    "\n",
    "# Read the csv file into a pandas DataFrame object called Apple.\n",
    "Apple = pd.read_csv(apple)\n",
    "\n",
    "# Observe the first three entries like you did with your other data. \n",
    "Apple.head(3)"
   ]
  },
  {
   "cell_type": "markdown",
   "metadata": {
    "colab_type": "text",
    "id": "vljOHKNTFcuw"
   },
   "source": [
    "### 1b. Pick the columns we'll work with\n",
    "\n",
    "From the documentation of these datasets, we can infer that the most appropriate columns to answer the brief are:\n",
    "\n",
    "1. Google:\n",
    "    * `Category` # Do we need this?\n",
    "    * `Rating`\n",
    "    * `Reviews`\n",
    "    * `Price` (maybe)\n",
    "2. Apple:    \n",
    "    * `prime_genre` # Do we need this?\n",
    "    * `user_rating` \n",
    "    * `rating_count_tot`\n",
    "    * `price` (maybe)"
   ]
  },
  {
   "cell_type": "markdown",
   "metadata": {
    "colab_type": "text",
    "id": "uf69AeTvFcux"
   },
   "source": [
    "### 1c. Subsetting accordingly\n",
    "\n",
    "Let's select only those columns that we want to work with from both datasets. We'll overwrite the subsets in the original variables."
   ]
  },
  {
   "cell_type": "code",
   "execution_count": 4,
   "metadata": {
    "colab": {},
    "colab_type": "code",
    "id": "LNSDXyjdFcuy"
   },
   "outputs": [
    {
     "data": {
      "text/html": [
       "<div>\n",
       "<style scoped>\n",
       "    .dataframe tbody tr th:only-of-type {\n",
       "        vertical-align: middle;\n",
       "    }\n",
       "\n",
       "    .dataframe tbody tr th {\n",
       "        vertical-align: top;\n",
       "    }\n",
       "\n",
       "    .dataframe thead th {\n",
       "        text-align: right;\n",
       "    }\n",
       "</style>\n",
       "<table border=\"1\" class=\"dataframe\">\n",
       "  <thead>\n",
       "    <tr style=\"text-align: right;\">\n",
       "      <th></th>\n",
       "      <th>Category</th>\n",
       "      <th>Rating</th>\n",
       "      <th>Reviews</th>\n",
       "      <th>Price</th>\n",
       "    </tr>\n",
       "  </thead>\n",
       "  <tbody>\n",
       "    <tr>\n",
       "      <th>0</th>\n",
       "      <td>ART_AND_DESIGN</td>\n",
       "      <td>4.1</td>\n",
       "      <td>159</td>\n",
       "      <td>0</td>\n",
       "    </tr>\n",
       "    <tr>\n",
       "      <th>1</th>\n",
       "      <td>ART_AND_DESIGN</td>\n",
       "      <td>3.9</td>\n",
       "      <td>967</td>\n",
       "      <td>0</td>\n",
       "    </tr>\n",
       "    <tr>\n",
       "      <th>2</th>\n",
       "      <td>ART_AND_DESIGN</td>\n",
       "      <td>4.7</td>\n",
       "      <td>87510</td>\n",
       "      <td>0</td>\n",
       "    </tr>\n",
       "  </tbody>\n",
       "</table>\n",
       "</div>"
      ],
      "text/plain": [
       "         Category  Rating Reviews Price\n",
       "0  ART_AND_DESIGN     4.1     159     0\n",
       "1  ART_AND_DESIGN     3.9     967     0\n",
       "2  ART_AND_DESIGN     4.7   87510     0"
      ]
     },
     "execution_count": 4,
     "metadata": {},
     "output_type": "execute_result"
    }
   ],
   "source": [
    "# Subset our DataFrame object Google by selecting just the variables ['Category', 'Rating', 'Reviews', 'Price']\n",
    "Google= Google[['Category', 'Rating', 'Reviews', 'Price']]\n",
    "\n",
    "# Check the first three entries\n",
    "Google.head(3)"
   ]
  },
  {
   "cell_type": "code",
   "execution_count": 5,
   "metadata": {
    "colab": {},
    "colab_type": "code",
    "id": "AVCtENPtFcu0"
   },
   "outputs": [
    {
     "data": {
      "text/html": [
       "<div>\n",
       "<style scoped>\n",
       "    .dataframe tbody tr th:only-of-type {\n",
       "        vertical-align: middle;\n",
       "    }\n",
       "\n",
       "    .dataframe tbody tr th {\n",
       "        vertical-align: top;\n",
       "    }\n",
       "\n",
       "    .dataframe thead th {\n",
       "        text-align: right;\n",
       "    }\n",
       "</style>\n",
       "<table border=\"1\" class=\"dataframe\">\n",
       "  <thead>\n",
       "    <tr style=\"text-align: right;\">\n",
       "      <th></th>\n",
       "      <th>prime_genre</th>\n",
       "      <th>user_rating</th>\n",
       "      <th>rating_count_tot</th>\n",
       "      <th>price</th>\n",
       "    </tr>\n",
       "  </thead>\n",
       "  <tbody>\n",
       "    <tr>\n",
       "      <th>0</th>\n",
       "      <td>Games</td>\n",
       "      <td>4.0</td>\n",
       "      <td>21292</td>\n",
       "      <td>3.99</td>\n",
       "    </tr>\n",
       "    <tr>\n",
       "      <th>1</th>\n",
       "      <td>Productivity</td>\n",
       "      <td>4.0</td>\n",
       "      <td>161065</td>\n",
       "      <td>0.00</td>\n",
       "    </tr>\n",
       "    <tr>\n",
       "      <th>2</th>\n",
       "      <td>Weather</td>\n",
       "      <td>3.5</td>\n",
       "      <td>188583</td>\n",
       "      <td>0.00</td>\n",
       "    </tr>\n",
       "  </tbody>\n",
       "</table>\n",
       "</div>"
      ],
      "text/plain": [
       "    prime_genre  user_rating  rating_count_tot  price\n",
       "0         Games          4.0             21292   3.99\n",
       "1  Productivity          4.0            161065   0.00\n",
       "2       Weather          3.5            188583   0.00"
      ]
     },
     "execution_count": 5,
     "metadata": {},
     "output_type": "execute_result"
    }
   ],
   "source": [
    "# Do the same with our Apple object, selecting just the variables ['prime_genre', 'user_rating', 'rating_count_tot', 'price']\n",
    "Apple = Apple[['prime_genre', 'user_rating', 'rating_count_tot', 'price']]\n",
    "\n",
    "# Let's check the first three entries\n",
    "Apple.head(3)"
   ]
  },
  {
   "cell_type": "markdown",
   "metadata": {
    "colab_type": "text",
    "id": "wwK2wH-rFcu2"
   },
   "source": [
    "## Stage 2 -  Cleaning, transforming and visualizing"
   ]
  },
  {
   "cell_type": "markdown",
   "metadata": {
    "colab_type": "text",
    "id": "NsoE5x0JFcu3"
   },
   "source": [
    "### 2a. Check the data types for both Apple and Google, and fix them\n",
    "\n",
    "Types are crucial for data science in Python. Let's determine whether the variables we selected in the previous section belong to the types they should do, or whether there are any errors here. "
   ]
  },
  {
   "cell_type": "code",
   "execution_count": 6,
   "metadata": {
    "colab": {},
    "colab_type": "code",
    "id": "ymw10SaWFcu4"
   },
   "outputs": [
    {
     "data": {
      "text/plain": [
       "prime_genre          object\n",
       "user_rating         float64\n",
       "rating_count_tot      int64\n",
       "price               float64\n",
       "dtype: object"
      ]
     },
     "execution_count": 6,
     "metadata": {},
     "output_type": "execute_result"
    }
   ],
   "source": [
    "# Using the dtypes feature of pandas DataFrame objects, check out the data types within our Apple dataframe.\n",
    "# Are they what you expect?\n",
    "Apple.dtypes"
   ]
  },
  {
   "cell_type": "markdown",
   "metadata": {
    "colab_type": "text",
    "id": "VAiM6jIxFcu6"
   },
   "source": [
    "This is looking healthy. But what about our Google data frame?"
   ]
  },
  {
   "cell_type": "code",
   "execution_count": 7,
   "metadata": {
    "colab": {},
    "colab_type": "code",
    "id": "kmP8MhqyFcu7"
   },
   "outputs": [
    {
     "data": {
      "text/plain": [
       "Category     object\n",
       "Rating      float64\n",
       "Reviews      object\n",
       "Price        object\n",
       "dtype: object"
      ]
     },
     "execution_count": 7,
     "metadata": {},
     "output_type": "execute_result"
    }
   ],
   "source": [
    "# Using the same dtypes feature, check out the data types of our Google dataframe. \n",
    "Google.dtypes"
   ]
  },
  {
   "cell_type": "markdown",
   "metadata": {
    "colab_type": "text",
    "id": "O-dxAy0WFcu9"
   },
   "source": [
    "Weird. The data type for the column 'Price' is 'object', not a numeric data type like a float or an integer. Let's investigate the unique values of this column. "
   ]
  },
  {
   "cell_type": "code",
   "execution_count": 8,
   "metadata": {
    "colab": {},
    "colab_type": "code",
    "id": "Hu08K9y7Fcu9"
   },
   "outputs": [
    {
     "data": {
      "text/plain": [
       "array(['0', '$4.99', '$3.99', '$6.99', '$1.49', '$2.99', '$7.99', '$5.99',\n",
       "       '$3.49', '$1.99', '$9.99', '$7.49', '$0.99', '$9.00', '$5.49',\n",
       "       '$10.00', '$24.99', '$11.99', '$79.99', '$16.99', '$14.99',\n",
       "       '$1.00', '$29.99', '$12.99', '$2.49', '$10.99', '$1.50', '$19.99',\n",
       "       '$15.99', '$33.99', '$74.99', '$39.99', '$3.95', '$4.49', '$1.70',\n",
       "       '$8.99', '$2.00', '$3.88', '$25.99', '$399.99', '$17.99',\n",
       "       '$400.00', '$3.02', '$1.76', '$4.84', '$4.77', '$1.61', '$2.50',\n",
       "       '$1.59', '$6.49', '$1.29', '$5.00', '$13.99', '$299.99', '$379.99',\n",
       "       '$37.99', '$18.99', '$389.99', '$19.90', '$8.49', '$1.75',\n",
       "       '$14.00', '$4.85', '$46.99', '$109.99', '$154.99', '$3.08',\n",
       "       '$2.59', '$4.80', '$1.96', '$19.40', '$3.90', '$4.59', '$15.46',\n",
       "       '$3.04', '$4.29', '$2.60', '$3.28', '$4.60', '$28.99', '$2.95',\n",
       "       '$2.90', '$1.97', '$200.00', '$89.99', '$2.56', '$30.99', '$3.61',\n",
       "       '$394.99', '$1.26', 'Everyone', '$1.20', '$1.04'], dtype=object)"
      ]
     },
     "execution_count": 8,
     "metadata": {},
     "output_type": "execute_result"
    }
   ],
   "source": [
    "# Use the unique() pandas method on the Price column to check its unique values. \n",
    "Google['Price'].unique()"
   ]
  },
  {
   "cell_type": "markdown",
   "metadata": {
    "colab_type": "text",
    "id": "w_7nkogFFcu_"
   },
   "source": [
    "Aha! Fascinating. There are actually two issues here. \n",
    "\n",
    "- Firstly, there's a price called `Everyone`. That is a massive mistake! \n",
    "- Secondly, there are dollar symbols everywhere! \n",
    "\n",
    "\n",
    "Let's address the first issue first. Let's check the datapoints that have the price value `Everyone`"
   ]
  },
  {
   "cell_type": "code",
   "execution_count": 9,
   "metadata": {
    "colab": {},
    "colab_type": "code",
    "id": "E75WWmhdFcvA"
   },
   "outputs": [
    {
     "data": {
      "text/html": [
       "<div>\n",
       "<style scoped>\n",
       "    .dataframe tbody tr th:only-of-type {\n",
       "        vertical-align: middle;\n",
       "    }\n",
       "\n",
       "    .dataframe tbody tr th {\n",
       "        vertical-align: top;\n",
       "    }\n",
       "\n",
       "    .dataframe thead th {\n",
       "        text-align: right;\n",
       "    }\n",
       "</style>\n",
       "<table border=\"1\" class=\"dataframe\">\n",
       "  <thead>\n",
       "    <tr style=\"text-align: right;\">\n",
       "      <th></th>\n",
       "      <th>Category</th>\n",
       "      <th>Rating</th>\n",
       "      <th>Reviews</th>\n",
       "      <th>Price</th>\n",
       "    </tr>\n",
       "  </thead>\n",
       "  <tbody>\n",
       "    <tr>\n",
       "      <th>10472</th>\n",
       "      <td>1.9</td>\n",
       "      <td>19.0</td>\n",
       "      <td>3.0M</td>\n",
       "      <td>Everyone</td>\n",
       "    </tr>\n",
       "  </tbody>\n",
       "</table>\n",
       "</div>"
      ],
      "text/plain": [
       "      Category  Rating Reviews     Price\n",
       "10472      1.9    19.0    3.0M  Everyone"
      ]
     },
     "execution_count": 9,
     "metadata": {},
     "output_type": "execute_result"
    }
   ],
   "source": [
    "# Let's check which data points have the value 'Everyone' for the 'Price' column by subsetting our Google dataframe.\n",
    "\n",
    "# Subset the Google dataframe on the price column. \n",
    "# To be sure: you want to pick out just those rows whose value for the 'Price' column is just 'Everyone'. \n",
    "Google[Google['Price']=='Everyone']"
   ]
  },
  {
   "cell_type": "markdown",
   "metadata": {
    "colab_type": "text",
    "id": "ezfLshdRFcvC"
   },
   "source": [
    "Thankfully, it's just one row. We've gotta get rid of it. "
   ]
  },
  {
   "cell_type": "code",
   "execution_count": 10,
   "metadata": {
    "colab": {},
    "colab_type": "code",
    "id": "DBmjUQUkFcvD"
   },
   "outputs": [
    {
     "data": {
      "text/plain": [
       "array(['0', '$4.99', '$3.99', '$6.99', '$1.49', '$2.99', '$7.99', '$5.99',\n",
       "       '$3.49', '$1.99', '$9.99', '$7.49', '$0.99', '$9.00', '$5.49',\n",
       "       '$10.00', '$24.99', '$11.99', '$79.99', '$16.99', '$14.99',\n",
       "       '$1.00', '$29.99', '$12.99', '$2.49', '$10.99', '$1.50', '$19.99',\n",
       "       '$15.99', '$33.99', '$74.99', '$39.99', '$3.95', '$4.49', '$1.70',\n",
       "       '$8.99', '$2.00', '$3.88', '$25.99', '$399.99', '$17.99',\n",
       "       '$400.00', '$3.02', '$1.76', '$4.84', '$4.77', '$1.61', '$2.50',\n",
       "       '$1.59', '$6.49', '$1.29', '$5.00', '$13.99', '$299.99', '$379.99',\n",
       "       '$37.99', '$18.99', '$389.99', '$19.90', '$8.49', '$1.75',\n",
       "       '$14.00', '$4.85', '$46.99', '$109.99', '$154.99', '$3.08',\n",
       "       '$2.59', '$4.80', '$1.96', '$19.40', '$3.90', '$4.59', '$15.46',\n",
       "       '$3.04', '$4.29', '$2.60', '$3.28', '$4.60', '$28.99', '$2.95',\n",
       "       '$2.90', '$1.97', '$200.00', '$89.99', '$2.56', '$30.99', '$3.61',\n",
       "       '$394.99', '$1.26', '$1.20', '$1.04'], dtype=object)"
      ]
     },
     "execution_count": 10,
     "metadata": {},
     "output_type": "execute_result"
    }
   ],
   "source": [
    "# Let's eliminate that row. \n",
    "\n",
    "# Subset our Google dataframe to pick out just those rows whose value for the 'Price' column is NOT 'Everyone'. \n",
    "# Reassign that subset to the Google variable. \n",
    "# You can do this in two lines or one. Your choice! \n",
    "Google = Google[Google['Price']!='Everyone']\n",
    "# Check again the unique values of Google\n",
    "Google['Price'].unique()"
   ]
  },
  {
   "cell_type": "markdown",
   "metadata": {
    "colab_type": "text",
    "id": "T43TB4qFFcvF"
   },
   "source": [
    "Our second problem remains: I'm seeing dollar symbols when I close my eyes! (And not in a good way). \n",
    "\n",
    "This is a problem because Python actually considers these values strings. So we can't do mathematical and statistical operations on them until we've made them into numbers. "
   ]
  },
  {
   "cell_type": "code",
   "execution_count": 11,
   "metadata": {
    "colab": {},
    "colab_type": "code",
    "id": "W87gVS9BFcvG"
   },
   "outputs": [],
   "source": [
    "# Let's create a variable called nosymb.\n",
    "# This variable will take the Price column of Google and apply the str.replace() method. \n",
    "Google['Price'] = Google['Price'].str.replace('$','')\n",
    "\n",
    "# Now we need to do two things:\n",
    "# i. Make the values in the nosymb variable numeric using the to_numeric() pandas method.\n",
    "# ii. Assign this new set of numeric, dollar-sign-less values to Google['Price']. \n",
    "# You can do this in one line if you wish.\n",
    "Google['Price'] = pd.to_numeric(Google['Price'])"
   ]
  },
  {
   "cell_type": "markdown",
   "metadata": {
    "colab_type": "text",
    "id": "LxpJQ9yyFcvI"
   },
   "source": [
    "Now let's check the data types for our Google dataframe again, to verify that the 'Price' column really is numeric now."
   ]
  },
  {
   "cell_type": "code",
   "execution_count": 12,
   "metadata": {
    "colab": {},
    "colab_type": "code",
    "id": "Fn5Gt-QbFcvI"
   },
   "outputs": [
    {
     "data": {
      "text/plain": [
       "Category     object\n",
       "Rating      float64\n",
       "Reviews      object\n",
       "Price       float64\n",
       "dtype: object"
      ]
     },
     "execution_count": 12,
     "metadata": {},
     "output_type": "execute_result"
    }
   ],
   "source": [
    "# Use the function dtypes. \n",
    "Google.dtypes"
   ]
  },
  {
   "cell_type": "markdown",
   "metadata": {
    "colab_type": "text",
    "id": "FgfuiVo0FcvK"
   },
   "source": [
    "Notice that the column `Reviews` is still an object column. We actually need this column to be a numeric column, too. "
   ]
  },
  {
   "cell_type": "code",
   "execution_count": 13,
   "metadata": {
    "colab": {},
    "colab_type": "code",
    "id": "MiVEWsWBFcvL"
   },
   "outputs": [],
   "source": [
    "# Convert the 'Reviews' column to a numeric data type. \n",
    "Google['Reviews'] = pd.to_numeric(Google['Reviews'])"
   ]
  },
  {
   "cell_type": "code",
   "execution_count": 14,
   "metadata": {
    "colab": {},
    "colab_type": "code",
    "id": "wWJdXXTTFcvN"
   },
   "outputs": [
    {
     "data": {
      "text/plain": [
       "Category     object\n",
       "Rating      float64\n",
       "Reviews       int64\n",
       "Price       float64\n",
       "dtype: object"
      ]
     },
     "execution_count": 14,
     "metadata": {},
     "output_type": "execute_result"
    }
   ],
   "source": [
    "# Let's check the data types of Google again\n",
    "Google.dtypes"
   ]
  },
  {
   "cell_type": "markdown",
   "metadata": {
    "colab_type": "text",
    "id": "OiLm2GEKFcvP"
   },
   "source": [
    "### 2b. Add a `platform` column to both the `Apple` and the `Google` dataframes\n",
    "Let's add a new column to both dataframe objects called `platform`: all of its values in the Google dataframe will be just 'google', and all of its values for the Apple dataframe will be just 'apple'. \n",
    "\n",
    "The reason we're making this column is so that we can ultimately join our Apple and Google data together, and actually test out some hypotheses to solve the problem in our brief. "
   ]
  },
  {
   "cell_type": "code",
   "execution_count": 15,
   "metadata": {
    "colab": {},
    "colab_type": "code",
    "id": "mF-sOcx2FcvQ"
   },
   "outputs": [],
   "source": [
    "# Create a column called 'platform' in both the Apple and Google dataframes. \n",
    "# Add the value 'apple' and the value 'google' as appropriate. \n",
    "Google['platform']='google'\n",
    "Apple['platform'] = 'apple'"
   ]
  },
  {
   "cell_type": "markdown",
   "metadata": {
    "colab_type": "text",
    "id": "EJcry17IFcvS"
   },
   "source": [
    "### 2c. Changing the column names to prepare for our join of the two datasets \n",
    "Since the easiest way to join two datasets is if they have both:\n",
    "- the same number of columns\n",
    "- the same column names\n",
    "we need to rename the columns of `Apple` so that they're the same as the ones of `Google`, or vice versa.\n",
    "\n",
    "In this case, we're going to change the `Apple` columns names to the names of the `Google` columns. \n",
    "\n",
    "This is an important step to unify the two datasets!"
   ]
  },
  {
   "cell_type": "code",
   "execution_count": 16,
   "metadata": {
    "colab": {},
    "colab_type": "code",
    "id": "bdt9XH2KFcvT"
   },
   "outputs": [],
   "source": [
    "# Create a variable called old_names where you'll store the column names of the Apple dataframe. \n",
    "# Use the feature .columns.\n",
    "old_names = list(Apple.columns)\n",
    "\n",
    "# Create a variable called new_names where you'll store the column names of the Google dataframe. \n",
    "new_names = list(Google.columns)\n",
    "\n",
    "# Use the rename() DataFrame method to change the columns names. \n",
    "Apple.rename(columns= {i:j for i,j in zip(old_names, new_names)},inplace= True)\n",
    "\n"
   ]
  },
  {
   "cell_type": "markdown",
   "metadata": {
    "colab_type": "text",
    "id": "qewPiLrRFcvX"
   },
   "source": [
    "### 2d. Join the two datasets \n",
    "Let's combine the two datasets into a single data frame called `df`."
   ]
  },
  {
   "cell_type": "code",
   "execution_count": 17,
   "metadata": {
    "colab": {},
    "colab_type": "code",
    "id": "jq6fGfvyFcvY"
   },
   "outputs": [],
   "source": [
    "# Let's use the append() method to append Apple to Google. \n",
    "df= Google.append(Apple)\n",
    "\n"
   ]
  },
  {
   "cell_type": "code",
   "execution_count": 18,
   "metadata": {},
   "outputs": [
    {
     "data": {
      "text/html": [
       "<div>\n",
       "<style scoped>\n",
       "    .dataframe tbody tr th:only-of-type {\n",
       "        vertical-align: middle;\n",
       "    }\n",
       "\n",
       "    .dataframe tbody tr th {\n",
       "        vertical-align: top;\n",
       "    }\n",
       "\n",
       "    .dataframe thead th {\n",
       "        text-align: right;\n",
       "    }\n",
       "</style>\n",
       "<table border=\"1\" class=\"dataframe\">\n",
       "  <thead>\n",
       "    <tr style=\"text-align: right;\">\n",
       "      <th></th>\n",
       "      <th>Category</th>\n",
       "      <th>Rating</th>\n",
       "      <th>Reviews</th>\n",
       "      <th>Price</th>\n",
       "      <th>platform</th>\n",
       "    </tr>\n",
       "  </thead>\n",
       "  <tbody>\n",
       "    <tr>\n",
       "      <th>788</th>\n",
       "      <td>EDUCATION</td>\n",
       "      <td>4.3</td>\n",
       "      <td>22384</td>\n",
       "      <td>0.00</td>\n",
       "      <td>google</td>\n",
       "    </tr>\n",
       "    <tr>\n",
       "      <th>10474</th>\n",
       "      <td>COMMUNICATION</td>\n",
       "      <td>3.4</td>\n",
       "      <td>37</td>\n",
       "      <td>0.00</td>\n",
       "      <td>google</td>\n",
       "    </tr>\n",
       "    <tr>\n",
       "      <th>6404</th>\n",
       "      <td>Games</td>\n",
       "      <td>4.0</td>\n",
       "      <td>1137</td>\n",
       "      <td>0.00</td>\n",
       "      <td>apple</td>\n",
       "    </tr>\n",
       "    <tr>\n",
       "      <th>5126</th>\n",
       "      <td>FAMILY</td>\n",
       "      <td>NaN</td>\n",
       "      <td>0</td>\n",
       "      <td>0.99</td>\n",
       "      <td>google</td>\n",
       "    </tr>\n",
       "    <tr>\n",
       "      <th>2379</th>\n",
       "      <td>Travel</td>\n",
       "      <td>4.5</td>\n",
       "      <td>92</td>\n",
       "      <td>0.00</td>\n",
       "      <td>apple</td>\n",
       "    </tr>\n",
       "    <tr>\n",
       "      <th>5445</th>\n",
       "      <td>FAMILY</td>\n",
       "      <td>4.3</td>\n",
       "      <td>275</td>\n",
       "      <td>0.00</td>\n",
       "      <td>google</td>\n",
       "    </tr>\n",
       "    <tr>\n",
       "      <th>2657</th>\n",
       "      <td>SHOPPING</td>\n",
       "      <td>4.3</td>\n",
       "      <td>94294</td>\n",
       "      <td>0.00</td>\n",
       "      <td>google</td>\n",
       "    </tr>\n",
       "    <tr>\n",
       "      <th>261</th>\n",
       "      <td>Food &amp; Drink</td>\n",
       "      <td>3.5</td>\n",
       "      <td>115</td>\n",
       "      <td>0.00</td>\n",
       "      <td>apple</td>\n",
       "    </tr>\n",
       "    <tr>\n",
       "      <th>6950</th>\n",
       "      <td>Games</td>\n",
       "      <td>3.0</td>\n",
       "      <td>5</td>\n",
       "      <td>0.00</td>\n",
       "      <td>apple</td>\n",
       "    </tr>\n",
       "    <tr>\n",
       "      <th>3913</th>\n",
       "      <td>GAME</td>\n",
       "      <td>4.2</td>\n",
       "      <td>685450</td>\n",
       "      <td>0.00</td>\n",
       "      <td>google</td>\n",
       "    </tr>\n",
       "    <tr>\n",
       "      <th>2543</th>\n",
       "      <td>MEDICAL</td>\n",
       "      <td>4.7</td>\n",
       "      <td>23160</td>\n",
       "      <td>0.00</td>\n",
       "      <td>google</td>\n",
       "    </tr>\n",
       "    <tr>\n",
       "      <th>10330</th>\n",
       "      <td>FAMILY</td>\n",
       "      <td>NaN</td>\n",
       "      <td>2</td>\n",
       "      <td>0.00</td>\n",
       "      <td>google</td>\n",
       "    </tr>\n",
       "  </tbody>\n",
       "</table>\n",
       "</div>"
      ],
      "text/plain": [
       "            Category  Rating  Reviews  Price platform\n",
       "788        EDUCATION     4.3    22384   0.00   google\n",
       "10474  COMMUNICATION     3.4       37   0.00   google\n",
       "6404           Games     4.0     1137   0.00    apple\n",
       "5126          FAMILY     NaN        0   0.99   google\n",
       "2379          Travel     4.5       92   0.00    apple\n",
       "5445          FAMILY     4.3      275   0.00   google\n",
       "2657        SHOPPING     4.3    94294   0.00   google\n",
       "261     Food & Drink     3.5      115   0.00    apple\n",
       "6950           Games     3.0        5   0.00    apple\n",
       "3913            GAME     4.2   685450   0.00   google\n",
       "2543         MEDICAL     4.7    23160   0.00   google\n",
       "10330         FAMILY     NaN        2   0.00   google"
      ]
     },
     "execution_count": 18,
     "metadata": {},
     "output_type": "execute_result"
    }
   ],
   "source": [
    "# Using the sample() method with the number 12 passed to it, check 12 random points of your dataset.\n",
    "df.sample(12)"
   ]
  },
  {
   "cell_type": "markdown",
   "metadata": {
    "colab_type": "text",
    "id": "FjqsHugWFcvb"
   },
   "source": [
    "### 2e. Eliminate the NaN values\n",
    "\n",
    "As you can see there are some `NaN` values. We want to eliminate all these `NaN` values from the table."
   ]
  },
  {
   "cell_type": "code",
   "execution_count": 19,
   "metadata": {
    "colab": {},
    "colab_type": "code",
    "id": "Gp2q6GLyFcvb"
   },
   "outputs": [
    {
     "data": {
      "text/plain": [
       "(16563, 5)"
      ]
     },
     "execution_count": 19,
     "metadata": {},
     "output_type": "execute_result"
    }
   ],
   "source": [
    "# Lets check first the dimesions of df before droping `NaN` values. Use the .shape feature. \n",
    "df.shape\n",
    "\n",
    "# Use the dropna() method to eliminate all the NaN values, and overwrite the same dataframe with the result. \n",
    "df.dropna(axis=0,how='any',inplace=True)\n",
    "\n",
    "# Check the new dimesions of our dataframe. \n",
    "df.shape"
   ]
  },
  {
   "cell_type": "markdown",
   "metadata": {
    "colab_type": "text",
    "id": "qtfeQKtAFcvd"
   },
   "source": [
    "### 2f. Filter the data so that we only see whose apps that have been reviewed at least once\n",
    "\n",
    "Apps that haven't been reviewed yet can't help us solve our brief. \n",
    "\n",
    "So let's check to see if any apps have no reviews at all. "
   ]
  },
  {
   "cell_type": "code",
   "execution_count": 20,
   "metadata": {
    "colab": {},
    "colab_type": "code",
    "id": "Ge9OKXLNFcvd"
   },
   "outputs": [
    {
     "data": {
      "text/plain": [
       "Category    929\n",
       "Rating      929\n",
       "Reviews     929\n",
       "Price       929\n",
       "platform    929\n",
       "dtype: int64"
      ]
     },
     "execution_count": 20,
     "metadata": {},
     "output_type": "execute_result"
    }
   ],
   "source": [
    "# Subset your df to pick out just those rows whose value for 'Reviews' is equal to 0. \n",
    "# Do a count() on the result. \n",
    "df[df['Reviews']==0].count()"
   ]
  },
  {
   "cell_type": "markdown",
   "metadata": {
    "colab_type": "text",
    "id": "05f7H0kAFcvg"
   },
   "source": [
    "929 apps do not have reviews, we need to eliminate these points!"
   ]
  },
  {
   "cell_type": "code",
   "execution_count": 21,
   "metadata": {
    "colab": {},
    "colab_type": "code",
    "id": "pD8vmPjkFcvg"
   },
   "outputs": [
    {
     "data": {
      "text/plain": [
       "(15634, 5)"
      ]
     },
     "execution_count": 21,
     "metadata": {},
     "output_type": "execute_result"
    }
   ],
   "source": [
    "# Eliminate the points that have 0 reviews.\n",
    "df = df[df['Reviews'] != 0]\n",
    "df.shape"
   ]
  },
  {
   "cell_type": "markdown",
   "metadata": {
    "colab_type": "text",
    "id": "ApnKES_bFcvi"
   },
   "source": [
    "### 2g. Summarize the data visually and analytically (by the column `platform`)"
   ]
  },
  {
   "cell_type": "markdown",
   "metadata": {
    "colab_type": "text",
    "id": "2smt9UocFcvj"
   },
   "source": [
    "What we need to solve our brief is a summary of the `Rating` column, but separated by the different platforms."
   ]
  },
  {
   "cell_type": "code",
   "execution_count": 22,
   "metadata": {
    "colab": {},
    "colab_type": "code",
    "id": "Vqckt347Fcvj"
   },
   "outputs": [
    {
     "data": {
      "text/plain": [
       "platform\n",
       "apple     4.049697\n",
       "google    4.191757\n",
       "Name: Rating, dtype: float64"
      ]
     },
     "execution_count": 22,
     "metadata": {},
     "output_type": "execute_result"
    }
   ],
   "source": [
    "# To summarize analytically, let's use the groupby() method on our df.\n",
    "df['Rating'].groupby(df['platform']).mean()"
   ]
  },
  {
   "cell_type": "markdown",
   "metadata": {
    "colab_type": "text",
    "id": "8f9TqMtKFcvl"
   },
   "source": [
    "Interesting! Our means of 4.049697 and 4.191757 don't **seem** all that different! Perhaps we've solved our brief already: there's no significant difference between Google Play app reviews and Apple Store app reviews. We have an ***observed difference*** here: which is simply (4.191757 - 4.049697) = 0.14206. This is just the actual difference that we observed between the mean rating for apps from Google Play, and the mean rating for apps from the Apple Store. Let's look at how we're going to use this observed difference to solve our problem using a statistical test. \n",
    "\n",
    "**Outline of our method:**\n",
    "1. We'll assume that platform (i.e, whether the app was Google or Apple) really doesn’t impact on ratings. \n",
    "\n",
    "\n",
    "2. Given this assumption, we should actually be able to get a difference in mean rating for Apple apps and mean rating for Google apps that's pretty similar to the one we actually got (0.14206) just by: \n",
    "a. shuffling the ratings column, \n",
    "b. keeping the platform column the same,\n",
    "c. calculating the difference between the mean rating for Apple and the mean rating for Google. \n",
    "\n",
    "\n",
    "3. We can make the shuffle more useful by doing it many times, each time calculating the mean rating for Apple apps and the mean rating for Google apps, and the difference between these means. \n",
    "\n",
    "\n",
    "4. We can then take the mean of all these differences, and this will be called our permutation difference. This permutation difference will be great indicator of what the difference would be if our initial assumption were true and platform really doesn’t impact on ratings. \n",
    "\n",
    "\n",
    "5. Now we do a comparison. If the observed difference looks just like the permutation difference, then we stick with the claim that actually, platform doesn’t impact on ratings. If instead, however, the permutation difference differs significantly from the observed difference, we'll conclude: something's going on; the platform does in fact impact on ratings. \n",
    "\n",
    "\n",
    "6. As for what the definition of *significantly* is, we'll get to that. But there’s a brief summary of what we're going to do. Exciting!\n",
    "\n",
    "If you want to look more deeply at the statistics behind this project, check out [this resource](https://www.springboard.com/archeio/download/4ea4d453b0b84014bcef287c50f47f00/)."
   ]
  },
  {
   "cell_type": "markdown",
   "metadata": {
    "colab_type": "text",
    "id": "d6EhTxArFcvm"
   },
   "source": [
    "Let's also get a **visual summary** of the `Rating` column, separated by the different platforms. \n",
    "\n",
    "A good tool to use here is the boxplot!"
   ]
  },
  {
   "cell_type": "code",
   "execution_count": 23,
   "metadata": {
    "colab": {},
    "colab_type": "code",
    "id": "hFKjrlWgFcvm"
   },
   "outputs": [
    {
     "data": {
      "text/plain": [
       "<AxesSubplot:>"
      ]
     },
     "execution_count": 23,
     "metadata": {},
     "output_type": "execute_result"
    },
    {
     "data": {
      "image/png": "[encoded data removed]",
      "text/plain": [
       "<Figure size 432x288 with 1 Axes>"
      ]
     },
     "metadata": {
      "needs_background": "light"
     },
     "output_type": "display_data"
    }
   ],
   "source": [
    "# Call the boxplot() method on our df.\n",
    "df.boxplot()"
   ]
  },
  {
   "cell_type": "markdown",
   "metadata": {
    "colab_type": "text",
    "id": "FqTlAjnmFcvo"
   },
   "source": [
    "Here we see the same information as in the analytical summary, but with a boxplot. Can you see how the boxplot is working here? If you need to revise your boxplots, check out this this [link](https://www.kaggle.com/ramamet4/app-store-apple-data-set-10k-apps). "
   ]
  },
  {
   "cell_type": "markdown",
   "metadata": {
    "colab_type": "text",
    "id": "O8L-s1fgFcvp"
   },
   "source": [
    "## Stage 3 - Modelling"
   ]
  },
  {
   "cell_type": "markdown",
   "metadata": {
    "colab_type": "text",
    "id": "5fbRq2MZFcvq"
   },
   "source": [
    "### 3a. Hypothesis formulation\n",
    "\n",
    "Our **Null hypothesis** is just:\n",
    "\n",
    "**H<sub>null</sub>**: the observed difference in the mean rating of Apple Store and Google Play apps is due to chance (and thus not due to the platform).\n",
    "\n",
    "The more interesting hypothesis is called the **Alternate hypothesis**:\n",
    "\n",
    "**H<sub>alternative</sub>**: the observed difference in the average ratings of apple and google users is not due to chance (and is actually due to platform)\n",
    "\n",
    "We're also going to pick a **significance level** of 0.05. "
   ]
  },
  {
   "cell_type": "markdown",
   "metadata": {
    "colab_type": "text",
    "id": "TjBqkabaFcvq"
   },
   "source": [
    "### 3b. Getting the distribution of the data\n",
    "Now that the hypotheses and significance level are defined, we can select a statistical test to determine which hypothesis to accept. \n",
    "\n",
    "There are many different statistical tests, all with different assumptions. You'll generate an excellent judgement about when to use which statistical tests over the Data Science Career Track course. But in general, one of the most important things to determine is the **distribution of the data**.   "
   ]
  },
  {
   "cell_type": "code",
   "execution_count": 24,
   "metadata": {
    "scrolled": true
   },
   "outputs": [
    {
     "data": {
      "text/html": [
       "<div>\n",
       "<style scoped>\n",
       "    .dataframe tbody tr th:only-of-type {\n",
       "        vertical-align: middle;\n",
       "    }\n",
       "\n",
       "    .dataframe tbody tr th {\n",
       "        vertical-align: top;\n",
       "    }\n",
       "\n",
       "    .dataframe thead th {\n",
       "        text-align: right;\n",
       "    }\n",
       "</style>\n",
       "<table border=\"1\" class=\"dataframe\">\n",
       "  <thead>\n",
       "    <tr style=\"text-align: right;\">\n",
       "      <th></th>\n",
       "      <th>Category</th>\n",
       "      <th>Rating</th>\n",
       "      <th>Reviews</th>\n",
       "      <th>Price</th>\n",
       "      <th>platform</th>\n",
       "    </tr>\n",
       "  </thead>\n",
       "  <tbody>\n",
       "    <tr>\n",
       "      <th>0</th>\n",
       "      <td>ART_AND_DESIGN</td>\n",
       "      <td>4.1</td>\n",
       "      <td>159</td>\n",
       "      <td>0.0</td>\n",
       "      <td>google</td>\n",
       "    </tr>\n",
       "    <tr>\n",
       "      <th>1</th>\n",
       "      <td>ART_AND_DESIGN</td>\n",
       "      <td>3.9</td>\n",
       "      <td>967</td>\n",
       "      <td>0.0</td>\n",
       "      <td>google</td>\n",
       "    </tr>\n",
       "    <tr>\n",
       "      <th>2</th>\n",
       "      <td>ART_AND_DESIGN</td>\n",
       "      <td>4.7</td>\n",
       "      <td>87510</td>\n",
       "      <td>0.0</td>\n",
       "      <td>google</td>\n",
       "    </tr>\n",
       "  </tbody>\n",
       "</table>\n",
       "</div>"
      ],
      "text/plain": [
       "         Category  Rating  Reviews  Price platform\n",
       "0  ART_AND_DESIGN     4.1      159    0.0   google\n",
       "1  ART_AND_DESIGN     3.9      967    0.0   google\n",
       "2  ART_AND_DESIGN     4.7    87510    0.0   google"
      ]
     },
     "execution_count": 24,
     "metadata": {},
     "output_type": "execute_result"
    }
   ],
   "source": [
    "df.head(3)"
   ]
  },
  {
   "cell_type": "code",
   "execution_count": 39,
   "metadata": {
    "colab": {},
    "colab_type": "code",
    "id": "oPPFpwPvFcvu"
   },
   "outputs": [],
   "source": [
    "# Using the stats.normaltest() method, get an indication of whether the apple data are normally distributed\n",
    "# Save the result in a variable called apple_normal, and print it out\n",
    "apple = df.loc[df['platform']=='apple', 'Rating']"
   ]
  },
  {
   "cell_type": "code",
   "execution_count": 43,
   "metadata": {},
   "outputs": [],
   "source": [
    "apple_normal = stats.normaltest(apple)"
   ]
  },
  {
   "cell_type": "code",
   "execution_count": 44,
   "metadata": {},
   "outputs": [
    {
     "name": "stdout",
     "output_type": "stream",
     "text": [
      "NormaltestResult(statistic=1778.9974234584017, pvalue=0.0)\n"
     ]
    }
   ],
   "source": [
    "print(apple_normal)"
   ]
  },
  {
   "cell_type": "code",
   "execution_count": 45,
   "metadata": {
    "colab": {},
    "colab_type": "code",
    "id": "rCdh8a8KFcvw"
   },
   "outputs": [
    {
     "name": "stdout",
     "output_type": "stream",
     "text": [
      "NormaltestResult(statistic=3678.6157187516856, pvalue=0.0)\n"
     ]
    }
   ],
   "source": [
    "# Do the same with the google data. \n",
    "google = df.loc[df['platform']=='google','Rating']\n",
    "google_normal = stats.normaltest(google)\n",
    "print(google_normal)"
   ]
  },
  {
   "cell_type": "markdown",
   "metadata": {
    "colab_type": "text",
    "id": "9gDqu21yFcv0"
   },
   "source": [
    "Since the null hypothesis of the normaltest() is that the data are normally distributed, the lower the p-value in the result of this test, the more likely the data are to be non-normal. \n",
    "\n",
    "Since the p-values is 0 for both tests, regardless of what we pick for the significance level, our conclusion is that the data are not normally distributed. \n",
    "\n",
    "We can actually also check out the distribution of the data visually with a histogram. A normal distribution has the following visual characteristics:\n",
    "    - symmetric\n",
    "    - unimodal (one hump)\n",
    "As well as a roughly identical mean, median and mode. "
   ]
  },
  {
   "cell_type": "code",
   "execution_count": 46,
   "metadata": {
    "colab": {},
    "colab_type": "code",
    "id": "P9tT9RjNFcv1"
   },
   "outputs": [
    {
     "data": {
      "image/png": "[encoded data removed]",
      "text/plain": [
       "<Figure size 432x288 with 1 Axes>"
      ]
     },
     "metadata": {
      "needs_background": "light"
     },
     "output_type": "display_data"
    }
   ],
   "source": [
    "# Create a histogram of the apple reviews distribution\n",
    "_ = plt.hist(apple)\n",
    "_ = plt.xlabel('Apple Review')\n",
    "_ = plt.ylabel('Count')\n",
    "plt.show()"
   ]
  },
  {
   "cell_type": "code",
   "execution_count": 47,
   "metadata": {
    "colab": {},
    "colab_type": "code",
    "id": "8dE1uC5iFcv2"
   },
   "outputs": [
    {
     "data": {
      "image/png": "[encoded data removed]",
      "text/plain": [
       "<Figure size 432x288 with 1 Axes>"
      ]
     },
     "metadata": {
      "needs_background": "light"
     },
     "output_type": "display_data"
    }
   ],
   "source": [
    "# Create a histogram of the google data\n",
    "_ = plt.hist(google)\n",
    "_ = plt.xlabel('Google Review')\n",
    "_ = plt.ylabel('Count')\n",
    "plt.show()"
   ]
  },
  {
   "cell_type": "markdown",
   "metadata": {
    "colab_type": "text",
    "id": "QhZV89FzFcv5"
   },
   "source": [
    "### 3c. Permutation test\n",
    "Since the data aren't normally distributed, we're using a *non-parametric* test here. This is simply a label for statistical tests used when the data aren't normally distributed. These tests are extraordinarily powerful due to how few assumptions we need to make.  \n",
    "\n",
    "Check out more about permutations [here.](http://rasbt.github.io/mlxtend/user_guide/evaluate/permutation_test/)"
   ]
  },
  {
   "cell_type": "code",
   "execution_count": 49,
   "metadata": {
    "colab": {},
    "colab_type": "code",
    "id": "bxNhQgpqFcv6"
   },
   "outputs": [
    {
     "data": {
      "text/html": [
       "<div>\n",
       "<style scoped>\n",
       "    .dataframe tbody tr th:only-of-type {\n",
       "        vertical-align: middle;\n",
       "    }\n",
       "\n",
       "    .dataframe tbody tr th {\n",
       "        vertical-align: top;\n",
       "    }\n",
       "\n",
       "    .dataframe thead th {\n",
       "        text-align: right;\n",
       "    }\n",
       "</style>\n",
       "<table border=\"1\" class=\"dataframe\">\n",
       "  <thead>\n",
       "    <tr style=\"text-align: right;\">\n",
       "      <th></th>\n",
       "      <th>count</th>\n",
       "      <th>mean</th>\n",
       "      <th>std</th>\n",
       "      <th>min</th>\n",
       "      <th>25%</th>\n",
       "      <th>50%</th>\n",
       "      <th>75%</th>\n",
       "      <th>max</th>\n",
       "    </tr>\n",
       "    <tr>\n",
       "      <th>platform</th>\n",
       "      <th></th>\n",
       "      <th></th>\n",
       "      <th></th>\n",
       "      <th></th>\n",
       "      <th></th>\n",
       "      <th></th>\n",
       "      <th></th>\n",
       "      <th></th>\n",
       "    </tr>\n",
       "  </thead>\n",
       "  <tbody>\n",
       "    <tr>\n",
       "      <th>apple</th>\n",
       "      <td>6268.0</td>\n",
       "      <td>4.138465</td>\n",
       "      <td>0.608634</td>\n",
       "      <td>1.0</td>\n",
       "      <td>4.0</td>\n",
       "      <td>4.3</td>\n",
       "      <td>4.5</td>\n",
       "      <td>5.0</td>\n",
       "    </tr>\n",
       "    <tr>\n",
       "      <th>google</th>\n",
       "      <td>9366.0</td>\n",
       "      <td>4.132351</td>\n",
       "      <td>0.615847</td>\n",
       "      <td>1.0</td>\n",
       "      <td>4.0</td>\n",
       "      <td>4.3</td>\n",
       "      <td>4.5</td>\n",
       "      <td>5.0</td>\n",
       "    </tr>\n",
       "  </tbody>\n",
       "</table>\n",
       "</div>"
      ],
      "text/plain": [
       "           count      mean       std  min  25%  50%  75%  max\n",
       "platform                                                     \n",
       "apple     6268.0  4.138465  0.608634  1.0  4.0  4.3  4.5  5.0\n",
       "google    9366.0  4.132351  0.615847  1.0  4.0  4.3  4.5  5.0"
      ]
     },
     "execution_count": 49,
     "metadata": {},
     "output_type": "execute_result"
    }
   ],
   "source": [
    "# Create a column called `Permutation1`, and assign to it the result of permuting (shuffling) the Rating column\n",
    "# This assignment will use our numpy object's random.permutation() method\n",
    "df['Permutation1'] = np.random.permutation(df['Rating'])\n",
    "\n",
    "# Call the describe() method on our permutation grouped by 'platform'. \n",
    "df['Permutation1'].groupby(df['platform']).describe()"
   ]
  },
  {
   "cell_type": "code",
   "execution_count": 50,
   "metadata": {
    "colab": {},
    "colab_type": "code",
    "id": "AaGNfPGTFcv7"
   },
   "outputs": [
    {
     "data": {
      "text/html": [
       "<div>\n",
       "<style scoped>\n",
       "    .dataframe tbody tr th:only-of-type {\n",
       "        vertical-align: middle;\n",
       "    }\n",
       "\n",
       "    .dataframe tbody tr th {\n",
       "        vertical-align: top;\n",
       "    }\n",
       "\n",
       "    .dataframe thead th {\n",
       "        text-align: right;\n",
       "    }\n",
       "</style>\n",
       "<table border=\"1\" class=\"dataframe\">\n",
       "  <thead>\n",
       "    <tr style=\"text-align: right;\">\n",
       "      <th></th>\n",
       "      <th>count</th>\n",
       "      <th>mean</th>\n",
       "      <th>std</th>\n",
       "      <th>min</th>\n",
       "      <th>25%</th>\n",
       "      <th>50%</th>\n",
       "      <th>75%</th>\n",
       "      <th>max</th>\n",
       "    </tr>\n",
       "    <tr>\n",
       "      <th>platform</th>\n",
       "      <th></th>\n",
       "      <th></th>\n",
       "      <th></th>\n",
       "      <th></th>\n",
       "      <th></th>\n",
       "      <th></th>\n",
       "      <th></th>\n",
       "      <th></th>\n",
       "    </tr>\n",
       "  </thead>\n",
       "  <tbody>\n",
       "    <tr>\n",
       "      <th>apple</th>\n",
       "      <td>6268.0</td>\n",
       "      <td>4.049697</td>\n",
       "      <td>0.726943</td>\n",
       "      <td>1.0</td>\n",
       "      <td>4.0</td>\n",
       "      <td>4.5</td>\n",
       "      <td>4.5</td>\n",
       "      <td>5.0</td>\n",
       "    </tr>\n",
       "    <tr>\n",
       "      <th>google</th>\n",
       "      <td>9366.0</td>\n",
       "      <td>4.191757</td>\n",
       "      <td>0.515219</td>\n",
       "      <td>1.0</td>\n",
       "      <td>4.0</td>\n",
       "      <td>4.3</td>\n",
       "      <td>4.5</td>\n",
       "      <td>5.0</td>\n",
       "    </tr>\n",
       "  </tbody>\n",
       "</table>\n",
       "</div>"
      ],
      "text/plain": [
       "           count      mean       std  min  25%  50%  75%  max\n",
       "platform                                                     \n",
       "apple     6268.0  4.049697  0.726943  1.0  4.0  4.5  4.5  5.0\n",
       "google    9366.0  4.191757  0.515219  1.0  4.0  4.3  4.5  5.0"
      ]
     },
     "execution_count": 50,
     "metadata": {},
     "output_type": "execute_result"
    }
   ],
   "source": [
    "# Lets compare with the previous analytical summary:\n",
    "df['Rating'].groupby(df['platform']).describe()"
   ]
  },
  {
   "cell_type": "code",
   "execution_count": 52,
   "metadata": {},
   "outputs": [
    {
     "data": {
      "text/html": [
       "<div>\n",
       "<style scoped>\n",
       "    .dataframe tbody tr th:only-of-type {\n",
       "        vertical-align: middle;\n",
       "    }\n",
       "\n",
       "    .dataframe tbody tr th {\n",
       "        vertical-align: top;\n",
       "    }\n",
       "\n",
       "    .dataframe thead th {\n",
       "        text-align: right;\n",
       "    }\n",
       "</style>\n",
       "<table border=\"1\" class=\"dataframe\">\n",
       "  <thead>\n",
       "    <tr style=\"text-align: right;\">\n",
       "      <th></th>\n",
       "      <th>count</th>\n",
       "      <th>mean</th>\n",
       "      <th>std</th>\n",
       "      <th>min</th>\n",
       "      <th>25%</th>\n",
       "      <th>50%</th>\n",
       "      <th>75%</th>\n",
       "      <th>max</th>\n",
       "    </tr>\n",
       "    <tr>\n",
       "      <th>platform</th>\n",
       "      <th></th>\n",
       "      <th></th>\n",
       "      <th></th>\n",
       "      <th></th>\n",
       "      <th></th>\n",
       "      <th></th>\n",
       "      <th></th>\n",
       "      <th></th>\n",
       "    </tr>\n",
       "  </thead>\n",
       "  <tbody>\n",
       "    <tr>\n",
       "      <th>apple</th>\n",
       "      <td>6268.0</td>\n",
       "      <td>4.049697</td>\n",
       "      <td>0.726943</td>\n",
       "      <td>1.0</td>\n",
       "      <td>4.0</td>\n",
       "      <td>4.5</td>\n",
       "      <td>4.5</td>\n",
       "      <td>5.0</td>\n",
       "    </tr>\n",
       "    <tr>\n",
       "      <th>google</th>\n",
       "      <td>9366.0</td>\n",
       "      <td>4.191757</td>\n",
       "      <td>0.515219</td>\n",
       "      <td>1.0</td>\n",
       "      <td>4.0</td>\n",
       "      <td>4.3</td>\n",
       "      <td>4.5</td>\n",
       "      <td>5.0</td>\n",
       "    </tr>\n",
       "  </tbody>\n",
       "</table>\n",
       "</div>"
      ],
      "text/plain": [
       "           count      mean       std  min  25%  50%  75%  max\n",
       "platform                                                     \n",
       "apple     6268.0  4.049697  0.726943  1.0  4.0  4.5  4.5  5.0\n",
       "google    9366.0  4.191757  0.515219  1.0  4.0  4.3  4.5  5.0"
      ]
     },
     "execution_count": 52,
     "metadata": {},
     "output_type": "execute_result"
    }
   ],
   "source": [
    "a = df['Rating'].groupby(df['platform']).describe()\n"
   ]
  },
  {
   "cell_type": "code",
   "execution_count": 54,
   "metadata": {},
   "outputs": [],
   "source": [
    "a = pd.DataFrame(a)"
   ]
  },
  {
   "cell_type": "code",
   "execution_count": 56,
   "metadata": {},
   "outputs": [
    {
     "data": {
      "text/html": [
       "<div>\n",
       "<style scoped>\n",
       "    .dataframe tbody tr th:only-of-type {\n",
       "        vertical-align: middle;\n",
       "    }\n",
       "\n",
       "    .dataframe tbody tr th {\n",
       "        vertical-align: top;\n",
       "    }\n",
       "\n",
       "    .dataframe thead th {\n",
       "        text-align: right;\n",
       "    }\n",
       "</style>\n",
       "<table border=\"1\" class=\"dataframe\">\n",
       "  <thead>\n",
       "    <tr style=\"text-align: right;\">\n",
       "      <th></th>\n",
       "      <th>count</th>\n",
       "      <th>mean</th>\n",
       "      <th>std</th>\n",
       "      <th>min</th>\n",
       "      <th>25%</th>\n",
       "      <th>50%</th>\n",
       "      <th>75%</th>\n",
       "      <th>max</th>\n",
       "    </tr>\n",
       "    <tr>\n",
       "      <th>platform</th>\n",
       "      <th></th>\n",
       "      <th></th>\n",
       "      <th></th>\n",
       "      <th></th>\n",
       "      <th></th>\n",
       "      <th></th>\n",
       "      <th></th>\n",
       "      <th></th>\n",
       "    </tr>\n",
       "  </thead>\n",
       "  <tbody>\n",
       "    <tr>\n",
       "      <th>apple</th>\n",
       "      <td>6268.0</td>\n",
       "      <td>4.049697</td>\n",
       "      <td>0.726943</td>\n",
       "      <td>1.0</td>\n",
       "      <td>4.0</td>\n",
       "      <td>4.5</td>\n",
       "      <td>4.5</td>\n",
       "      <td>5.0</td>\n",
       "    </tr>\n",
       "    <tr>\n",
       "      <th>google</th>\n",
       "      <td>9366.0</td>\n",
       "      <td>4.191757</td>\n",
       "      <td>0.515219</td>\n",
       "      <td>1.0</td>\n",
       "      <td>4.0</td>\n",
       "      <td>4.3</td>\n",
       "      <td>4.5</td>\n",
       "      <td>5.0</td>\n",
       "    </tr>\n",
       "  </tbody>\n",
       "</table>\n",
       "</div>"
      ],
      "text/plain": [
       "           count      mean       std  min  25%  50%  75%  max\n",
       "platform                                                     \n",
       "apple     6268.0  4.049697  0.726943  1.0  4.0  4.5  4.5  5.0\n",
       "google    9366.0  4.191757  0.515219  1.0  4.0  4.3  4.5  5.0"
      ]
     },
     "execution_count": 56,
     "metadata": {},
     "output_type": "execute_result"
    }
   ],
   "source": [
    "a "
   ]
  },
  {
   "cell_type": "code",
   "execution_count": 59,
   "metadata": {},
   "outputs": [
    {
     "data": {
      "text/plain": [
       "-0.14206054745123442"
      ]
     },
     "execution_count": 59,
     "metadata": {},
     "output_type": "execute_result"
    }
   ],
   "source": [
    "a.loc['apple','mean']-a.loc['google','mean']"
   ]
  },
  {
   "cell_type": "code",
   "execution_count": 61,
   "metadata": {
    "colab": {},
    "colab_type": "code",
    "id": "aJPNpX0JFcv-"
   },
   "outputs": [],
   "source": [
    "# The difference in the means for Permutation1 (0.001103) now looks hugely different to our observed difference of 0.14206. \n",
    "# It's sure starting to look like our observed difference is significant, and that the Null is false; platform does impact on ratings\n",
    "# But to be sure, let's create 10,000 permutations, calculate the mean ratings for Google and Apple apps and the difference between \n",
    "#these for each one, and then take the average of all of these differences.\n",
    "# Let's create a vector with the differences - that will be the distibution of the Null.\n",
    "\n",
    "# First, make a list called difference.\n",
    "difference = []\n",
    "\n",
    "# Now make a for loop that does the following 10,000 times:\n",
    "# 1. makes a permutation of the 'Rating' as you did above\n",
    "# 2. calculates the difference in the mean rating for apple and the mean rating for google. \n",
    "for i in range(10000):\n",
    "    df['Permutation'] =np.random.permutation(df['Rating'])\n",
    "    a = df['Permutation'].groupby(df['platform']).describe()\n",
    "    a = pd.DataFrame(a)\n",
    "    difference.append((a.loc['google','mean']-a.loc['apple','mean']))\n"
   ]
  },
  {
   "cell_type": "code",
   "execution_count": 62,
   "metadata": {
    "collapsed": true
   },
   "outputs": [
    {
     "data": {
      "text/plain": [
       "[0.0028871043153140263,\n",
       " -0.012958322141990664,\n",
       " 0.004298545663593778,\n",
       " -0.015541526119068116,\n",
       " 0.010530192371188463,\n",
       " 0.011116073685587757,\n",
       " 0.022807069004491254,\n",
       " 0.009038858116400483,\n",
       " -0.004889138584758257,\n",
       " -0.008937045847763336,\n",
       " 0.0007832577772957094,\n",
       " 0.021688568313402712,\n",
       " 0.022301080596617062,\n",
       " 0.002514270751615477,\n",
       " 0.003259937878989483,\n",
       " 0.0003837932447670056,\n",
       " 0.007414369017397782,\n",
       " -0.008084854845046507,\n",
       " -0.012532226640621147,\n",
       " 0.028958822805560835,\n",
       " 0.018998840460967337,\n",
       " -0.0025988752648471447,\n",
       " 0.00019737646289907929,\n",
       " -0.009309879411491195,\n",
       " 0.011142704654421465,\n",
       " 0.0021414371879142635,\n",
       " 0.0001441145252298881,\n",
       " -0.004995662460098416,\n",
       " 0.0028072114088004696,\n",
       " -0.0119729762950751,\n",
       " 0.0010495674656629816,\n",
       " 0.0009963055279733624,\n",
       " -0.010082177507722001,\n",
       " 0.0003039003382561134,\n",
       " -0.008084854845034073,\n",
       " -0.0038505308001433036,\n",
       " 0.009305167804751768,\n",
       " -0.012718643422465092,\n",
       " 0.017427613299664912,\n",
       " 0.00973126330612839,\n",
       " -0.00020208806963051273,\n",
       " -0.003930423706648867,\n",
       " 0.0023811159074274,\n",
       " 0.004351807601281621,\n",
       " 0.017667292019183378,\n",
       " 0.0032599378790321154,\n",
       " -0.011014261416964821,\n",
       " -0.008697367128273292,\n",
       " 0.0096513703996024,\n",
       " 0.01148890724927032,\n",
       " -0.003557590142947653,\n",
       " 0.012074788563669614,\n",
       " -0.008244640658050528,\n",
       " 0.005283891510523553,\n",
       " 0.006082820575626258,\n",
       " -0.004569566958702254,\n",
       " 0.002274592032094347,\n",
       " -0.024702579398577562,\n",
       " -0.005128817304250077,\n",
       " 0.001022936496778648,\n",
       " 0.0014756629670129584,\n",
       " -0.004942400522401691,\n",
       " 0.002807211408807575,\n",
       " -0.006620151559061149,\n",
       " -0.013597465394058261,\n",
       " -0.0014271126360636543,\n",
       " 0.026535404641512272,\n",
       " -0.014502918334461157,\n",
       " 0.013725908631484707,\n",
       " -0.0029983397974042703,\n",
       " -0.010055546538873195,\n",
       " 0.011142704654425017,\n",
       " 0.005097474728691154,\n",
       " 0.004085497912926783,\n",
       " -0.018470932690998865,\n",
       " -0.0025722442960196545,\n",
       " -0.008750629065940707,\n",
       " 0.002088175250233526,\n",
       " 0.010423668495836758,\n",
       " -0.013011584079663407,\n",
       " 0.002594163658119264,\n",
       " 0.013459598943118323,\n",
       " -0.010614796884444111,\n",
       " -0.010881106572820265,\n",
       " -0.0002819809761591685,\n",
       " -0.0028385539843904795,\n",
       " -0.017831789438937484,\n",
       " 0.0014224010293295564,\n",
       " 0.0007832577772788341,\n",
       " 0.015563445481139304,\n",
       " -0.0032380185169111897,\n",
       " -0.0008944932593850652,\n",
       " 0.0015821868423744334,\n",
       " -0.010960999479313394,\n",
       " -0.00960282006868951,\n",
       " -0.006460365746044694,\n",
       " -0.021932958639660605,\n",
       " 0.011755216937641144,\n",
       " -0.010002284601241307,\n",
       " 0.0005968409954446585,\n",
       " 0.002993628190674613,\n",
       " 0.0014224010293419909,\n",
       " 0.0021414371878965,\n",
       " 0.008186667113639245,\n",
       " -0.004676090834059288,\n",
       " 0.0007566268084451266,\n",
       " -0.010162070414227564,\n",
       " 0.013566122818471804,\n",
       " -0.014662704147473171,\n",
       " -0.014236608646113424,\n",
       " -0.005208710210768963,\n",
       " 0.0015022939358635412,\n",
       " 0.0010495674656469944,\n",
       " -0.013517572487552698,\n",
       " 0.003659402411539503,\n",
       " 0.008239929051323536,\n",
       " -0.009789236850529903,\n",
       " 0.0119150027506576,\n",
       " 0.003792557255732909,\n",
       " 0.018892316585628954,\n",
       " -0.019136706911888623,\n",
       " -0.020122052758826392,\n",
       " 0.012980241504087608,\n",
       " 0.008266560020128821,\n",
       " -0.01540837127488981,\n",
       " -0.0015602674802623895,\n",
       " 0.007041535453696568,\n",
       " -0.003051601735066356,\n",
       " -0.007312556748804155,\n",
       " -0.000521659695681187,\n",
       " -0.0033978043299347505,\n",
       " -0.025102043931117812,\n",
       " 0.01335307506780481,\n",
       " -0.009123462629631263,\n",
       " 0.015616707418812936,\n",
       " -0.009709343944031446,\n",
       " -0.001214064885388666,\n",
       " 0.011302490467437032,\n",
       " -0.006194056057691633,\n",
       " 0.011968264688330343,\n",
       " -0.0021195178258226477,\n",
       " -0.006966354153925991,\n",
       " 0.018066756551731622,\n",
       " 6.422161873764765e-05,\n",
       " 0.00533715344822383,\n",
       " 0.006136082513296337,\n",
       " 0.01023725171401324,\n",
       " -0.0037972688624732243,\n",
       " -0.0007613384151898828,\n",
       " -0.0014537436049373298,\n",
       " 0.007041535453708114,\n",
       " -0.010481642040245376,\n",
       " 0.0074676309550953945,\n",
       " -0.015648049994398505,\n",
       " -0.036393574717502375,\n",
       " -0.000921124228201009,\n",
       " -0.005421757961457274,\n",
       " -0.01024196332072691,\n",
       " -0.0024390894518599993,\n",
       " 0.0040322359752451575,\n",
       " -0.019988897914641868,\n",
       " 0.019851031463734792,\n",
       " -0.00542175796144484,\n",
       " -0.013144738923835497,\n",
       " 0.010503561402377848,\n",
       " 0.011835109844144931,\n",
       " 0.005283891510534211,\n",
       " -0.0026521372025287704,\n",
       " 0.0127139318157381,\n",
       " 0.01678847004758577,\n",
       " 0.0038191882245772746,\n",
       " 0.0037126643492157996,\n",
       " -0.006433734777233191,\n",
       " -0.0032380185169165188,\n",
       " -0.007525604499494243,\n",
       " -0.00792506903203627,\n",
       " 0.012847086659903972,\n",
       " -0.0017733152309471478,\n",
       " 0.012154681470179618,\n",
       " -0.01362409636288131,\n",
       " 0.011941633719490419,\n",
       " 0.01447157575889424,\n",
       " -0.010534903977919896,\n",
       " 0.011355752405084019,\n",
       " 0.004777903102644032,\n",
       " -0.01636708615297877,\n",
       " 0.006455654139299938,\n",
       " 0.0034463546608751727,\n",
       " 0.029917537683659567,\n",
       " -0.010268594289586375,\n",
       " -0.011680035637873232,\n",
       " -0.0012406958542428015,\n",
       " 0.0014490319981810273,\n",
       " -0.005794591525159376,\n",
       " 0.002008282343727963,\n",
       " 0.00014411452523876989,\n",
       " -0.017858420407770303,\n",
       " 0.005363784417045103,\n",
       " 0.019211888211665418,\n",
       " 0.0021148062190539108,\n",
       " -0.00550165086796639,\n",
       " -0.013357786674519367,\n",
       " -0.010801213666285392,\n",
       " 0.005630094105430139,\n",
       " 0.009624739430786455,\n",
       " -0.005448388930283876,\n",
       " -0.006167425088871248,\n",
       " 0.008160036144808203,\n",
       " 0.00744099998623593,\n",
       " -0.006992985122747264,\n",
       " -0.0014537436049248953,\n",
       " -0.01687307456085474,\n",
       " 0.000676733901951998,\n",
       " 0.0011560913409880413,\n",
       " 0.004325176632426597,\n",
       " -0.010481642040265804,\n",
       " 0.00922527489821956,\n",
       " 0.005470308292384374,\n",
       " 0.006562178014661413,\n",
       " -0.010987630448140884,\n",
       " 0.02448482004113739,\n",
       " -0.0012140648853948832,\n",
       " -0.0036108520806124034,\n",
       " -0.0030249707662415304,\n",
       " 0.015270504823956976,\n",
       " -0.001560267480270383,\n",
       " 0.011009549810228947,\n",
       " -0.014023560895425113,\n",
       " -0.0030249707662415304,\n",
       " 0.00038379324476434107,\n",
       " 0.01780044686336346,\n",
       " -0.002891815922050789,\n",
       " 0.0003571622759128701,\n",
       " -0.0036374830494692034,\n",
       " -0.004622828896352793,\n",
       " -0.0014271126360974051,\n",
       " 0.002407746876272654,\n",
       " 0.0016887107177110394,\n",
       " -0.010055546538891846,\n",
       " -0.0051288173042758345,\n",
       " -0.003158125610417173,\n",
       " 0.007946988394118115,\n",
       " 0.0011028294033108565,\n",
       " 0.009811156212614414,\n",
       " -0.01572794290092272,\n",
       " -0.008990307785482266,\n",
       " 0.0072279522355405135,\n",
       " -0.002199410732328211,\n",
       " -0.0035575901429503176,\n",
       " -0.006593520590238988,\n",
       " 0.010317144620506369,\n",
       " -0.00403694758200146,\n",
       " 0.0009963055279627042,\n",
       " 0.006455654139306155,\n",
       " -0.01066805882212396,\n",
       " 0.002381115907435394,\n",
       " -0.014103453801935117,\n",
       " -0.014023560895427778,\n",
       " -0.011919714357391697,\n",
       " -0.0027320301090547616,\n",
       " 0.012234574376689622,\n",
       " 0.017267827486649345,\n",
       " 0.010583454308863871,\n",
       " 0.00509747472867339,\n",
       " -0.0007613384151943237,\n",
       " -0.006966354153930432,\n",
       " 0.017480875237327886,\n",
       " 0.00997094202562998,\n",
       " -0.002518982358353128,\n",
       " 0.0004104242135882785,\n",
       " -0.007765283219016261,\n",
       " -0.00781854515667657,\n",
       " -0.005475019899121136,\n",
       " 0.0025142707516128127,\n",
       " 0.02235434253428803,\n",
       " -0.001906470075136113,\n",
       " 0.008186667113645463,\n",
       " -0.014955644804657275,\n",
       " -0.011387094980685575,\n",
       " -0.01258548857829389,\n",
       " 0.014471575758885358,\n",
       " -0.01287842923549487,\n",
       " 0.014977564166785307,\n",
       " -0.010401749133749583,\n",
       " 0.001821865561886682,\n",
       " -0.00028198097614495765,\n",
       " -0.01527521643069818,\n",
       " 0.01753413717500507,\n",
       " 0.015084088042129018,\n",
       " 0.007387738048556969,\n",
       " 0.00693501157837062,\n",
       " 0.004804534071509714,\n",
       " 0.0011827223098244133,\n",
       " 0.004058866944083306,\n",
       " -0.006353841870711641,\n",
       " 0.008692655521524095,\n",
       " 0.013299813130108973,\n",
       " -0.014263239614940915,\n",
       " 0.0006767339019431162,\n",
       " -0.006220687026538663,\n",
       " 0.0035795095050579206,\n",
       " 0.007840464518785062,\n",
       " 0.004538224383135336,\n",
       " 0.007707309674605867,\n",
       " -0.006833199309748572,\n",
       " 0.018572744959598708,\n",
       " -0.01572794290089341,\n",
       " 0.006721963827678756,\n",
       " 0.01407211122634866,\n",
       " -0.014955644804667934,\n",
       " 0.006056189606801432,\n",
       " -0.007392449655301725,\n",
       " -0.003930423706646202,\n",
       " 0.005843141856095357,\n",
       " -0.005741329587479527,\n",
       " -0.024303114866044417,\n",
       " 0.008905703272195531,\n",
       " -0.008404426471074089,\n",
       " 0.00616271348210784,\n",
       " 0.012767193753397521,\n",
       " -0.009203355536157254,\n",
       " 0.004724641164989052,\n",
       " 0.006775225765345283,\n",
       " 0.014098742195186809,\n",
       " 0.006908380609519149,\n",
       " -0.0024390894518750983,\n",
       " -0.01207950017040993,\n",
       " -0.0055549128056471275,\n",
       " -0.0022793036388408794,\n",
       " 0.00328656884783296,\n",
       " -0.006886461247430198,\n",
       " -0.02158675604478688,\n",
       " 0.023792414851416588,\n",
       " -0.016713288747808086,\n",
       " -0.004889138584753816,\n",
       " -0.021480232169469815,\n",
       " -0.006220687026523564,\n",
       " -0.00017545710081279253,\n",
       " -0.013917037020060086,\n",
       " -0.00012219516313116685,\n",
       " -0.007285925779943803,\n",
       " 0.01681510101644168,\n",
       " -0.007126139966957545,\n",
       " -0.0017200532932806212,\n",
       " -0.0029450778597377436,\n",
       " 0.004751272133821871,\n",
       " 0.00925190586705682,\n",
       " -0.006646782527894857,\n",
       " -0.0077652832189976095,\n",
       " 0.002833842377629736,\n",
       " 3.7590649879959415e-05,\n",
       " -0.0016667913555972191,\n",
       " 0.0007832577773028149,\n",
       " -0.008218009689218597,\n",
       " -0.0037706378936315232,\n",
       " -0.00819137872038489,\n",
       " -0.007472342561793077,\n",
       " 0.005070843759860111,\n",
       " -0.004249995332670231,\n",
       " 0.0035528785361966797,\n",
       " -0.012319178889936389,\n",
       " -0.011972976295074211,\n",
       " 0.011755216937635815,\n",
       " 0.004804534071502609,\n",
       " -0.01402356089543666,\n",
       " 0.010823133028377008,\n",
       " 0.0031800449725087887,\n",
       " -0.019962266945805496,\n",
       " 0.007574154830420454,\n",
       " -0.006380472839530249,\n",
       " 0.02142225862503011,\n",
       " 0.0024610088139480624,\n",
       " -0.00829790259570462,\n",
       " -0.016606764872497237,\n",
       " 0.006562178014654307,\n",
       " -0.005528281836796545,\n",
       " 0.003233306910173539,\n",
       " -0.005128817304298927,\n",
       " 0.0025409017204536255,\n",
       " -0.0027320301090654198,\n",
       " 0.0018484965307115075,\n",
       " -0.012771905360137836,\n",
       " 0.0024343778451116904,\n",
       " 0.0002772693694250705,\n",
       " -0.00930987941147432,\n",
       " 0.0057632489495711425,\n",
       " -0.014289870583787057,\n",
       " -0.020974243761557432,\n",
       " -0.02158675604478244,\n",
       " 0.00797361936296248,\n",
       " -0.0066467825279188375,\n",
       " -0.021027505699226623,\n",
       " 0.006828487703017139,\n",
       " -0.004143471457344283,\n",
       " -0.0031581256104162847,\n",
       " 0.0031267830348351566,\n",
       " -0.010827844635135087,\n",
       " 0.012926979566409535,\n",
       " -0.004303257270358962,\n",
       " 0.0006767339019457808,\n",
       " 0.03018384737203128,\n",
       " 0.019797769526049613,\n",
       " -0.009150093598463194,\n",
       " -0.014742597053988504,\n",
       " 0.02102279409248009,\n",
       " -0.002492351389506098,\n",
       " 0.0008897816526269864,\n",
       " -0.0049424005224247836,\n",
       " 0.007707309674602314,\n",
       " 0.012713931815703461,\n",
       " -0.006140794120015336,\n",
       " 0.007813833549927374,\n",
       " -0.004090209519660881,\n",
       " 0.007174690297863329,\n",
       " -0.0028918159220632234,\n",
       " -0.003238018516907637,\n",
       " 0.002034913312565223,\n",
       " -0.005634805712143809,\n",
       " 0.010769871090708705,\n",
       " 0.013672646693816404,\n",
       " 0.013166658285928001,\n",
       " 0.01748087523735098,\n",
       " -0.005128817304258959,\n",
       " 0.009118751022897165,\n",
       " -0.010188701383067489,\n",
       " -0.00020208806963672998,\n",
       " 0.018040125582881927,\n",
       " -0.0007080764775224679,\n",
       " -0.006460365746060681,\n",
       " -0.016926336498517713,\n",
       " -0.010668058822121296,\n",
       " 0.009331798773579258,\n",
       " 0.014924302229110786,\n",
       " -0.011120785292308533,\n",
       " 0.00033053130708360356,\n",
       " -0.0004950287268217224,\n",
       " -0.015674680963229548,\n",
       " -0.0023059346076577114,\n",
       " -0.002811923015555884,\n",
       " -0.003104863672715119,\n",
       " -0.0168730745608352,\n",
       " -0.006380472839565776,\n",
       " -0.011573511762545508,\n",
       " -0.0031314946415674783,\n",
       " 0.0005702100265958521,\n",
       " 0.009678001368442324,\n",
       " 0.004884426978009948,\n",
       " -0.0025988752648657965,\n",
       " 0.0038990811310730678,\n",
       " 0.010743240121875886,\n",
       " 0.0018218655618786883,\n",
       " -0.01317136989266654,\n",
       " 0.0078937264564507,\n",
       " -0.021693279920148356,\n",
       " 0.006935011578356409,\n",
       " 0.0006767339019360108,\n",
       " 0.011195966592102202,\n",
       " 0.003686033380386533,\n",
       " -0.006060901213518655,\n",
       " 0.006322499295139394,\n",
       " -0.011094154323496142,\n",
       " 0.012154681470161854,\n",
       " -0.004329888239184676,\n",
       " -0.0019597320127964224,\n",
       " 0.001848496530708843,\n",
       " -0.010268594289585486,\n",
       " -0.0007347074463677217,\n",
       " -0.008723998097102559,\n",
       " -0.006460365746045582,\n",
       " 0.012873717628733239,\n",
       " -0.002465720420675055,\n",
       " 0.012660669878065356,\n",
       " -0.003397804329927645,\n",
       " -0.00129395779191821,\n",
       " 0.008692655521508108,\n",
       " -0.0076853903125275735,\n",
       " -0.0038505308001326455,\n",
       " 0.005656725074223878,\n",
       " 0.007254583204374221,\n",
       " -0.005634805712142921,\n",
       " -0.0024923513895291904,\n",
       " -0.0025189823583522397,\n",
       " 0.0076540477369064774,\n",
       " 0.01321992022359364,\n",
       " -0.01508879964885601,\n",
       " -0.005261972148471905,\n",
       " -0.008377795502223506,\n",
       " 0.007281214173225692,\n",
       " 0.0030735210971615246,\n",
       " 0.011302490467420157,\n",
       " -0.005288603117293178,\n",
       " 0.000650102933095198,\n",
       " 0.0026207946269822813,\n",
       " -0.0031581256104198374,\n",
       " 0.005257260541706721,\n",
       " 0.01953145983770277,\n",
       " 0.0007033648707794882,\n",
       " 0.008932334241024797,\n",
       " -0.002226041701150372,\n",
       " 0.0005968409954340004,\n",
       " -0.010188701383078147,\n",
       " 0.000703364870763501,\n",
       " -0.01607414549580355,\n",
       " 0.019398304993488935,\n",
       " -0.019882374039299933,\n",
       " -0.005981008307008651,\n",
       " 0.004218652757089103,\n",
       " -0.0033179114234194174,\n",
       " 0.0024876397827711116,\n",
       " 0.00413875985061285,\n",
       " -0.011839821450885246,\n",
       " -0.010534903977923449,\n",
       " -0.0017466842621249867,\n",
       " 0.009145381991738866,\n",
       " 0.004165390819434123,\n",
       " -0.004995662460094863,\n",
       " 0.001209353278650127,\n",
       " -0.010854475603958136,\n",
       " -0.0004950287268323805,\n",
       " -0.002199410732339757,\n",
       " 0.010450299464679347,\n",
       " 0.003872450162247354,\n",
       " -0.01269201245362428,\n",
       " -0.0055815437744834995,\n",
       " -0.0018532081374642573,\n",
       " 0.018253173333576456,\n",
       " 0.0011028294033259556,\n",
       " -0.00406357855085826,\n",
       " -0.014076822833088087,\n",
       " 0.005417046354723176,\n",
       " 0.027866953083313994,\n",
       " 0.004751272133836082,\n",
       " -0.011759928544387677,\n",
       " 0.01138238337393549,\n",
       " 0.003259937879004582,\n",
       " -0.0036374830494541044,\n",
       " 0.001688710717694164,\n",
       " 0.0022745920321076696,\n",
       " 0.02299348578634941,\n",
       " 0.013885694444499386,\n",
       " 0.004005605006407897,\n",
       " -0.010881106572801613,\n",
       " 3.759064990482841e-05,\n",
       " -0.010082177507705126,\n",
       " -0.007339187717628981,\n",
       " 0.008426345833166593,\n",
       " 0.005177367635193164,\n",
       " 0.01223457437668607,\n",
       " 0.0015022939358466658,\n",
       " -0.0006015526021831974,\n",
       " 0.0060295586379419674,\n",
       " 0.006402392201640517,\n",
       " 0.00874591745919151,\n",
       " -0.0012939577919119927,\n",
       " 0.0008365197149702297,\n",
       " -0.0006548145398515004,\n",
       " 0.0012892461851539139,\n",
       " -0.01785842040776675,\n",
       " 0.00424528372594235,\n",
       " 0.011488907249266767,\n",
       " 0.014072111226342443,\n",
       " -0.013464310549879066,\n",
       " 0.001768603624223708,\n",
       " -0.012558857609440643,\n",
       " 0.016069433889033036,\n",
       " 0.0037925572557293563,\n",
       " -0.02416996002186078,\n",
       " -0.014209977677261065,\n",
       " 0.011009549810249375,\n",
       " 0.004964319884506629,\n",
       " 0.012074788563674943,\n",
       " 0.005603463136568898,\n",
       " -0.008324533564552539,\n",
       " -0.006220687026536886,\n",
       " -0.012292547921089358,\n",
       " 0.010956287872573078,\n",
       " -0.012239285983437043,\n",
       " 0.010157358807488137,\n",
       " 0.004165390819427017,\n",
       " -0.006939723185100277,\n",
       " 0.006322499295128736,\n",
       " -0.0038505308001379746,\n",
       " -0.006220687026539551,\n",
       " -0.0014004816672414933,\n",
       " 0.006855118671838412,\n",
       " -0.006140794120010007,\n",
       " -0.02041499341602826,\n",
       " 0.022460866409634406,\n",
       " 0.0077605716122635116,\n",
       " 0.018306435271231436,\n",
       " 0.01242099115851314,\n",
       " 0.00014411452522100632,\n",
       " -0.006593520590239876,\n",
       " -0.0176986345947725,\n",
       " -0.02840428406675599,\n",
       " 0.0060828205756155995,\n",
       " -0.00952292716217773,\n",
       " 0.006535547045822376,\n",
       " -0.018311146877988627,\n",
       " -0.0016667913556078773,\n",
       " -0.015301847399532775,\n",
       " -0.016420348090650627,\n",
       " 0.001608817811178831,\n",
       " -0.007605497406008688,\n",
       " 0.007494261923928214,\n",
       " 0.002540901720450961,\n",
       " -0.008271271626889565,\n",
       " 0.00693501157835108,\n",
       " 0.012287836314359701,\n",
       " -0.01881713528587703,\n",
       " -0.004569566958724458,\n",
       " -0.012585488578291226,\n",
       " -0.016020883558092613,\n",
       " -0.018604087535180724,\n",
       " -0.003158125610411844,\n",
       " -0.017325801031041976,\n",
       " -0.0023858275141881435,\n",
       " 0.013885694444504715,\n",
       " -0.01349094151869945,\n",
       " -0.005821222493990419,\n",
       " -0.003371173361095714,\n",
       " -0.006992985122783679,\n",
       " -0.007312556748789056,\n",
       " 0.004431700507792513,\n",
       " 0.015536814512332242,\n",
       " -0.003957054675481686,\n",
       " -0.001027648103542056,\n",
       " 0.008239929051308437,\n",
       " -0.0013472197295856247,\n",
       " -0.008404426471074089,\n",
       " -0.008910414878950945,\n",
       " 0.008985596178730404,\n",
       " -0.007445711592981574,\n",
       " -0.005421757961442175,\n",
       " 0.016255850670879646,\n",
       " -0.00504892439774185,\n",
       " -0.007578866437161658,\n",
       " 0.004431700507806724,\n",
       " -0.011360464011834104,\n",
       " 0.0015555558735416142,\n",
       " -0.00936314134915861,\n",
       " 0.012607407940378401,\n",
       " -0.011946345326220076,\n",
       " 0.004165390819429682,\n",
       " -0.017219277155712476,\n",
       " 0.01122259756091104,\n",
       " 0.0023012230009236134,\n",
       " 0.0006767339019315699,\n",
       " -0.023903650333506832,\n",
       " -0.007099508998119397,\n",
       " -0.002918446890888049,\n",
       " -0.0017733152309693523,\n",
       " 0.00033053130708093903,\n",
       " 0.0013691390916825696,\n",
       " -0.0016135294179520088,\n",
       " -0.008031592907364882,\n",
       " 0.013033503441753247,\n",
       " 0.005257260541690734,\n",
       " 0.011781847906474852,\n",
       " 0.005736617980746317,\n",
       " 0.006881749640688994,\n",
       " -0.007498973530640107,\n",
       " 0.012074788563662509,\n",
       " -0.011919714357401467,\n",
       " -0.006673413496744551,\n",
       " -0.012692012453625168,\n",
       " -0.013597465394052932,\n",
       " 0.007068166422536493,\n",
       " -0.00313149464156659,\n",
       " 0.006935011578340422,\n",
       " -0.00946966522448811,\n",
       " -0.013357786674527361,\n",
       " -0.012745274391291694,\n",
       " 0.0007832577773090321,\n",
       " 0.0035795095050570325,\n",
       " -0.0020928868569658476,\n",
       " -0.0021461487946430324,\n",
       " -0.006273948964206966,\n",
       " 0.0174009823308241,\n",
       " -0.0029450778597333027,\n",
       " -0.018897028192395027,\n",
       " -0.0011608029477381265,\n",
       " -0.010028915570050145,\n",
       " 0.0013425081228337632,\n",
       " -0.017352431999913875,\n",
       " -0.002705399140200626,\n",
       " 0.008852441334529004,\n",
       " 0.0004636861512814505,\n",
       " 0.008958965209883374,\n",
       " -0.005102186335417258,\n",
       " 0.02027712696508921,\n",
       " 0.021209210874354234,\n",
       " 0.0018751274995478795,\n",
       " 0.005337153448201626,\n",
       " -0.012319178889918625,\n",
       " 0.0012626152163495163,\n",
       " 0.005310522479361701,\n",
       " -0.0007080764775206916,\n",
       " -0.010774582697456125,\n",
       " -0.0024390894518599993,\n",
       " -0.005048924397747179,\n",
       " 0.016655315203428778,\n",
       " -0.0035043282052757974,\n",
       " -0.0013205887607457,\n",
       " -0.0037173759559694375,\n",
       " -0.004276626301515485,\n",
       " 0.0011294603721365704,\n",
       " -0.009309879411495636,\n",
       " 0.0003837932447510184,\n",
       " -0.0010542790723997442,\n",
       " 0.0031534140036661995,\n",
       " 0.005390415385869929,\n",
       " 0.00160881781119393,\n",
       " -0.0069130922162568,\n",
       " 0.003845819193406541,\n",
       " -0.001214064885388666,\n",
       " -0.002252672669992961,\n",
       " 0.010104096869810064,\n",
       " 0.011435645311608233,\n",
       " -0.008803891003596576,\n",
       " -0.015328478368370035,\n",
       " -0.005261972148432825,\n",
       " 0.011835109844154701,\n",
       " -0.019376385631433735,\n",
       " 0.008186667113642798,\n",
       " 0.004405069538936601,\n",
       " -0.008990307785471607,\n",
       " 0.0034996165985425876,\n",
       " -0.008138116782737015,\n",
       " -0.0026787681713722478,\n",
       " -0.006034270244684059,\n",
       " -0.008750629065908733,\n",
       " -0.0005749216333441609,\n",
       " -0.01652687196600322,\n",
       " -0.0010010171347225594,\n",
       " 0.006136082513276797,\n",
       " -0.001027648103552714,\n",
       " 0.006961642547216762,\n",
       " -0.008271271626908216,\n",
       " -0.009203355536155478,\n",
       " -0.009602820068667306,\n",
       " 0.00041042421357140313,\n",
       " -0.007898438063191904,\n",
       " 0.00504421279100864,\n",
       " -0.005927746369319031,\n",
       " 0.005470308292379045,\n",
       " -0.0037173759559792074,\n",
       " -0.010588165915597081,\n",
       " 0.006136082513271468,\n",
       " 0.005177367635178953,\n",
       " 0.014125373164009858,\n",
       " -0.013544203456380188,\n",
       " 0.009970942025634422,\n",
       " -0.010375118164933639,\n",
       " 0.00578987991841462,\n",
       " 0.0037126643492255695,\n",
       " 0.013725908631491812,\n",
       " 0.0035262475673576432,\n",
       " -0.00550165086795662,\n",
       " 0.004618117289640011,\n",
       " -0.020601410197892633,\n",
       " 0.02110268699899187,\n",
       " 0.0048045340714875096,\n",
       " 0.008186667113621482,\n",
       " -0.008297902595701068,\n",
       " 0.007973619362949158,\n",
       " 0.0027273185022842483,\n",
       " 0.004058866944093076,\n",
       " -0.011946345326213859,\n",
       " -0.0016934223244602364,\n",
       " -0.0026521372025136714,\n",
       " 0.01865263786612381,\n",
       " -0.00867073615942271,\n",
       " 0.007068166422538269,\n",
       " 0.0005968409954304477,\n",
       " -0.01668665777899303,\n",
       " -0.008697367128257305,\n",
       " 0.016921624891788944,\n",
       " 0.006801856734175438,\n",
       " 0.0013691390916683588,\n",
       " 0.0012892461851539139,\n",
       " 0.0011028294033152974,\n",
       " -0.0037706378936368523,\n",
       " 0.01500419513559681,\n",
       " 0.003526247567390506,\n",
       " 0.0165487913280824,\n",
       " 0.0053904153858681525,\n",
       " -0.0009743861658595421,\n",
       " -0.004196733395025021,\n",
       " -0.01317136989265233,\n",
       " -0.004862507615897016,\n",
       " 0.017560768143845884,\n",
       " 0.011595431124605149,\n",
       " 0.015563445481155291,\n",
       " 0.002940366252990323,\n",
       " -0.013650727331712353,\n",
       " 0.01061008527769669,\n",
       " -0.0073658186864582476,\n",
       " 0.00347298562969911,\n",
       " -0.012745274391296135,\n",
       " 0.0034729856297044392,\n",
       " 0.006588808983487127,\n",
       " 0.0027006875334496527,\n",
       " 0.0075208928927388286,\n",
       " -0.00491576955356976,\n",
       " 0.0013957700605100598,\n",
       " 0.003366461754362504,\n",
       " 0.005443677323544449,\n",
       " 0.0028072114087986932,\n",
       " -0.025341722650627396,\n",
       " 0.01756076814385299,\n",
       " -0.01570131193206592,\n",
       " -0.0028918159220534534,\n",
       " 0.005896403793745897,\n",
       " -0.009283248442649494,\n",
       " 0.0038458191934047647,\n",
       " -0.01042838010258862,\n",
       " -0.00534186505494727,\n",
       " -0.001054279072393527,\n",
       " -0.0033711733610841677,\n",
       " 0.0032333069101815326,\n",
       " 0.01686836295411087,\n",
       " -0.026460223341736366,\n",
       " 0.005097474728708917,\n",
       " 0.015723231294167306,\n",
       " -0.0006281835710035821,\n",
       " -0.00526197214844526,\n",
       " -0.0029983397973794013,\n",
       " -0.0016934223244371438,\n",
       " 0.006375761232797927,\n",
       " 0.007094797391371088,\n",
       " -0.00310486367274887,\n",
       " 0.01207478856365185,\n",
       " -0.013943667988925768,\n",
       " -0.004676090834044189,\n",
       " 0.003126783034832492,\n",
       " 0.0005702100266011811,\n",
       " 0.013006872472910658,\n",
       " -0.01144035691834766,\n",
       " 0.0034197236920130436,\n",
       " -0.008777260034757539,\n",
       " 0.0068284877030162505,\n",
       " 0.009385060711245785,\n",
       " -0.015248585461857367,\n",
       " -0.01101426141697548,\n",
       " -0.0028918159220596706,\n",
       " -0.009869129757026585,\n",
       " -0.009496296193323595,\n",
       " 0.007414369017406663,\n",
       " 0.012181312439007108,\n",
       " 0.00802688130062279,\n",
       " -0.009682712975178198,\n",
       " 0.00701490448484865,\n",
       " 0.007041535453688574,\n",
       " -0.0008678622905300415,\n",
       " -0.0012140648853877778,\n",
       " 0.00634913026397399,\n",
       " -0.00899030778546095,\n",
       " 0.007760571612259959,\n",
       " 0.0011560913409844886,\n",
       " -0.007791914187842863,\n",
       " 0.0009963055279857969,\n",
       " -0.017512217812919673,\n",
       " -0.0012939577919022227,\n",
       " 0.004298545663614206,\n",
       " 0.0016620797488595684,\n",
       " -0.003211387548097022,\n",
       " 0.004271914694772505,\n",
       " 0.009944311056809596,\n",
       " 0.005470308292391479,\n",
       " -0.009549558131001668,\n",
       " 0.01042366849583587,\n",
       " 0.0026740565646221626,\n",
       " -0.009789236850539673,\n",
       " 0.015163980948624811,\n",
       " 0.020303757933914923,\n",
       " 0.007174690297888198,\n",
       " -0.0022260417011494837,\n",
       " 0.0014490319981659283,\n",
       " 0.020969532154818005,\n",
       " 0.016868362954104654,\n",
       " 0.002194699125575461,\n",
       " 0.005417046354688537,\n",
       " -0.0029450778597412963,\n",
       " -0.005794591525154935,\n",
       " 0.008026881300629007,\n",
       " -0.007099508998107851,\n",
       " 0.009784525243780706,\n",
       " 0.005523570230062447,\n",
       " 0.008479607770815356,\n",
       " 0.019531459837686782,\n",
       " -0.002918446890883608,\n",
       " -0.019296492724921954,\n",
       " -0.002518982358357569,\n",
       " 0.001875127499554985,\n",
       " -0.011493618856020404,\n",
       " -0.0012140648854002123,\n",
       " 0.010903025934879018,\n",
       " -0.002732030109046768,\n",
       " -0.011040892385816292,\n",
       " -0.0012939577918924527,\n",
       " 0.022247818658937213,\n",
       " -0.01764537265708821,\n",
       " -0.003024970766215773,\n",
       " 0.003046890128327817,\n",
       " -0.006593520590227442,\n",
       " 0.01804012558290946,\n",
       " 0.003499616598540811,\n",
       " 0.0008098887461338578,\n",
       " 0.008825810365702402,\n",
       " 0.007760571612282163,\n",
       " -0.003131494641571919,\n",
       " 0.01151553821810758,\n",
       " 0.0033930927231802244,\n",
       " 0.005443677323555995,\n",
       " 0.001688710717723474,\n",
       " 0.0038990811310721796,\n",
       " 0.011409014342755874,\n",
       " -0.00012219516312228507,\n",
       " -0.00875062906592916,\n",
       " -0.0006015526021716511,\n",
       " -0.02691294981193426,\n",
       " 0.007041535453693015,\n",
       " 0.004804534071503497,\n",
       " 0.024511451009966656,\n",
       " -0.005661436680990839,\n",
       " 0.012980241504079615,\n",
       " 0.004564855351952168,\n",
       " 0.0009430435903059475,\n",
       " -0.0021195178258173186,\n",
       " -0.010002284601212885,\n",
       " -0.01841767075332612,\n",
       " 0.0013425081228337632,\n",
       " -0.0017733152309507005,\n",
       " -0.0023591965453464425,\n",
       " 0.0014756629670067412,\n",
       " 0.0020349133125625585,\n",
       " 0.007227952235562718,\n",
       " -0.004383150176846762,\n",
       " -0.005714698618673353,\n",
       " 0.001209353278664338,\n",
       " -0.012851798266656722,\n",
       " -0.0012406958542330315,\n",
       " -0.0037440069248120267,\n",
       " -0.009869129757039907,\n",
       " -0.024862365211604676,\n",
       " -0.0031581256104260547,\n",
       " -0.0036641140182815946,\n",
       " -0.011174047229972395,\n",
       " -0.008031592907371099,\n",
       " 0.006855118671854399,\n",
       " 0.0015821868423806507,\n",
       " -0.0029450778597315264,\n",
       " 0.014977564166774648,\n",
       " -0.008510950346391155,\n",
       " -0.009762605881702413,\n",
       " -0.0033978043299400795,\n",
       " 0.018519483021924188,\n",
       " -0.008431057439898915,\n",
       " 0.006535547045816159,\n",
       " 0.002088175250247737,\n",
       " -0.010508273009105729,\n",
       " 0.012527515033892378,\n",
       " -0.01634045518412819,\n",
       " -0.0020129939504691663,\n",
       " -0.011866452419727835,\n",
       " 0.009331798773577482,\n",
       " -0.013517572487530494,\n",
       " 0.0012359842474953808,\n",
       " 0.0023278539697653144,\n",
       " -0.0038238998313051553,\n",
       " -0.002598875264863132,\n",
       " -0.024143329053041285,\n",
       " -0.012452333734098708,\n",
       " 0.01598954098251415,\n",
       " -0.0053684960238058466,\n",
       " -0.010534903977931442,\n",
       " -0.008351164533406674,\n",
       " 0.017587399112681368,\n",
       " 0.0036327714426898083,\n",
       " 0.0042719146947796105,\n",
       " 0.010530192371211555,\n",
       " -0.009336510380312468,\n",
       " -0.00017545710080479893,\n",
       " -0.0008146003528528567,\n",
       " 0.027068024018227277,\n",
       " -0.0017466842621001177,\n",
       " 0.016575422296900122,\n",
       " -0.01506216868002408,\n",
       " -0.009522927162172401,\n",
       " -0.003238018516928065,\n",
       " 0.01766729201918782,\n",
       " 0.0047512721338236474,\n",
       " 0.004192021788264277,\n",
       " 0.020516805684621886,\n",
       " -0.008883783910113685,\n",
       " -0.02728578337565679,\n",
       " 0.0028604733464625554,\n",
       " 0.010423668495841198,\n",
       " -0.008484319377572547,\n",
       " ...]"
      ]
     },
     "execution_count": 62,
     "metadata": {},
     "output_type": "execute_result"
    }
   ],
   "source": [
    "difference"
   ]
  },
  {
   "cell_type": "code",
   "execution_count": 63,
   "metadata": {
    "colab": {},
    "colab_type": "code",
    "id": "VlzpYTkYFcv_"
   },
   "outputs": [
    {
     "data": {
      "image/png": "[encoded data removed]",
      "text/plain": [
       "<Figure size 432x288 with 1 Axes>"
      ]
     },
     "metadata": {
      "needs_background": "light"
     },
     "output_type": "display_data"
    }
   ],
   "source": [
    "# Make a variable called 'histo', and assign to it the result of plotting a histogram of the difference list. \n",
    "histo = plt.hist(difference)"
   ]
  },
  {
   "cell_type": "code",
   "execution_count": 64,
   "metadata": {
    "colab": {},
    "colab_type": "code",
    "id": "KhqgDFd3FcwB",
    "scrolled": true
   },
   "outputs": [
    {
     "name": "stdout",
     "output_type": "stream",
     "text": [
      "0.14206054745123442\n"
     ]
    }
   ],
   "source": [
    "# Now make a variable called obs_difference, and assign it the result of the mean of our 'apple' variable and the mean of our 'google variable'\n",
    "obs_difference = apple.mean()- google.mean()\n",
    "\n",
    "# Make this difference absolute with the built-in abs() function. \n",
    "obs_difference = abs(obs_difference)\n",
    "\n",
    "# Print out this value; it should be 0.1420605474512291. \n",
    "print(obs_difference)"
   ]
  },
  {
   "cell_type": "markdown",
   "metadata": {
    "colab_type": "text",
    "id": "QUNuuSgDFcwE"
   },
   "source": [
    "## Stage 4 -  Evaluating and concluding\n",
    "### 4a. What is our conclusion?"
   ]
  },
  {
   "cell_type": "code",
   "execution_count": 0,
   "metadata": {
    "colab": {},
    "colab_type": "code",
    "id": "XMQHnqx1FcwF"
   },
   "outputs": [],
   "source": [
    "'''\n",
    "What do we know? \n",
    "\n",
    "Recall: The p-value of our observed data is just the proportion of the data given the null that's at least as extreme as that observed data.\n",
    "\n",
    "As a result, we're going to count how many of the differences in our difference list are at least as extreme as our observed difference.\n",
    "\n",
    "If less than or equal to 5% of them are, then we will reject the Null. \n",
    "'''\n",
    "# The conclusion is that there is different between two platfroms about rating, because the vaule of 0.14206 locates extremmely right\n",
    "# on above histogram and the p-value approximately equals to 0. "
   ]
  },
  {
   "cell_type": "markdown",
   "metadata": {
    "colab_type": "text",
    "id": "4RTofY9wFcwI"
   },
   "source": [
    "### 4b. What is our decision?\n",
    "So actually, zero differences are at least as extreme as our observed difference!\n",
    "\n",
    "So the p-value of our observed data is 0. \n",
    "\n",
    "It doesn't matter which significance level we pick; our observed data is statistically significant, and we reject the Null.\n",
    "\n",
    "We conclude that platform does impact on ratings. Specifically, we should advise our client to integrate **only Google Play** into their operating system interface. "
   ]
  },
  {
   "cell_type": "markdown",
   "metadata": {
    "colab_type": "text",
    "id": "Cu_eh7fTFcwJ"
   },
   "source": [
    "### 4c. Other statistical tests, and next steps\n",
    "The test we used here is the Permutation test. This was appropriate because our data were not normally distributed! \n",
    "\n",
    "As we've seen in Professor Spiegelhalter's book, there are actually many different statistical tests, all with different assumptions. How many of these different statistical tests can you remember? How much do you remember about what the appropriate conditions are under which to use them? \n",
    "\n",
    "Make a note of your answers to these questions, and discuss them with your mentor at your next call. \n"
   ]
  }
 ],
 "metadata": {
  "colab": {
   "collapsed_sections": [
    "5fbRq2MZFcvq",
    "4RTofY9wFcwI",
    "Cu_eh7fTFcwJ"
   ],
   "name": "Springboard Apps project - Tier 3 - Complete.ipynb",
   "provenance": []
  },
  "kernelspec": {
   "display_name": "Python 3",
   "language": "python",
   "name": "python3"
  },
  "language_info": {
   "codemirror_mode": {
    "name": "ipython",
    "version": 3
   },
   "file_extension": ".py",
   "mimetype": "text/x-python",
   "name": "python",
   "nbconvert_exporter": "python",
   "pygments_lexer": "ipython3",
   "version": "3.7.3"
  },
  "toc": {
   "base_numbering": 1,
   "nav_menu": {},
   "number_sections": true,
   "sideBar": true,
   "skip_h1_title": false,
   "title_cell": "Table of Contents",
   "title_sidebar": "Contents",
   "toc_cell": false,
   "toc_position": {},
   "toc_section_display": true,
   "toc_window_display": false
  }
 },
 "nbformat": 4,
 "nbformat_minor": 1
}
